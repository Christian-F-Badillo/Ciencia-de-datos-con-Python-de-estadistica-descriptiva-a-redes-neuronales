{
 "cells": [
  {
   "cell_type": "markdown",
   "metadata": {},
   "source": [
    "# Proyecto Final: Ciencia de Datos en Python\n",
    "\n",
    "> Instructor: Christian Badillo\n",
    "\n",
    "***Integrantes del equipo:***\n",
    "\n",
    "- Nombre:\n",
    "- Nombre:\n",
    "- Nombre:"
   ]
  },
  {
   "cell_type": "markdown",
   "metadata": {},
   "source": [
    "## Descripción del proyecto\n",
    "\n",
    "Instrucciones para el proyecto final del curso de Ciencia de Datos en Python.\n",
    "\n",
    "En este proyecto trabajarán en diversos problemas para poner en práctica los conocimientos adquiridos en el curso. Los problemas están diseñados para que apliquen las técnicas de ciencia de datos aprendidas en el curso y que resuelvan problemas reales similares a los que se enfrentarían en un trabajo de ciencia de datos.\n",
    "La dificultad de los problemas es variado, siendo la parte 1 la más complicada, la parte 2 la más sencilla y la parte 3 intermedia. Deben de responder al menos 2 de las 3 partes del proyecto.\n",
    "\n",
    "**Se calificara la limpieza de los datos, el uso de las técnicas de ciencia de datos, la calidad de las gráficas y la presentación de los resultados. Además de la claridad y calidad del código.**"
   ]
  },
  {
   "cell_type": "markdown",
   "metadata": {},
   "source": [
    "## Parte 1: Limpieza, Manejo, Exploración, Visualización y Análisis de Regresión de Datos"
   ]
  },
  {
   "cell_type": "markdown",
   "metadata": {},
   "source": [
    "En esta primera parte aplicarán los conocimientos adquiridos en el curso para limpiar, manejar, explorar, visualizar y analizar un conjunto de datos, los datos a utilizar son los de la competencia de predicción de precios de viviendas de Kaggle.\n",
    "\n",
    "1. Realicen una limpieza de los datos.\n",
    "2. Realicen un análisis descriptivo de los datos.\n",
    "3. Realicen un análisis visual de los datos de la relación de cada variable con la variable objetivo.\n",
    "4. Realicen un análisis de regresión de los datos.\n",
    "5. Interpreten los resultados obtenidos.\n",
    "6. Predigan los precios de las viviendas utilizando regresión lineal para los datos de prueba (Verifiquen la integridad de los datos de prueba)."
   ]
  },
  {
   "cell_type": "code",
   "execution_count": null,
   "metadata": {},
   "outputs": [],
   "source": [
    "import pandas as pd\n",
    "\n",
    "# Url de datos de entrenamiento\n",
    "url_train = 'https://raw.githubusercontent.com/Christian-F-Badillo/Ciencia-de-datos-con-Python-de-estadistica-descriptiva-a-redes-neuronales/main/data/house-prices-advanced-regression-techniques/train.csv'\n",
    "\n",
    "# Url de datos de prueba\n",
    "url_test = 'https://raw.githubusercontent.com/Christian-F-Badillo/Ciencia-de-datos-con-Python-de-estadistica-descriptiva-a-redes-neuronales/main/data/house-prices-advanced-regression-techniques/test.csv'\n",
    "\n",
    "data_train = pd.read_csv(url_train)\n",
    "\n",
    "data_train.head(10)"
   ]
  },
  {
   "cell_type": "code",
   "execution_count": null,
   "metadata": {},
   "outputs": [],
   "source": [
    "data_predict = pd.read_csv(url_test)\n",
    "\n",
    "data_predict.head(10)"
   ]
  },
  {
   "cell_type": "markdown",
   "metadata": {},
   "source": [
    "## Parte 2: Pruebas de Hipótesis\n",
    "\n",
    "Usando los datos del rendimiento acádemico de los estudiantes, realicen pruebas de hipótesis para responder a las siguientes preguntas:\n",
    "\n",
    "1. ¿Existe evidencia de mejoria en la puntuación de matemáticas para los estudiantes que tomaron un curso de preparación para el examen? ¿Para lectura? ¿Para escritura?\n",
    "2. ¿Existe evidencia de que los estudiantes con almuerzo gratis tienen un rendimiento acádemico menor que los que tienen un almuerzo estándar? Toma el rendimiento como la media de las tres materias.\n",
    "3. ¿Existe evidencia de que el rendimiento acádemico es distinto entre los grupos étnicos? ¿\n",
    "4. ¿Existe evidencia de que los estudiantes de género femenino tienen un rendimiento acádemico distinto al de los estudiantes de género masculino?\n",
    "5. ¿Hay evidencia de que el nivel de educación de los padres afecta el rendimiento de los estudiantes?\n",
    "\n",
    "Interpreten los resultados y saquen conclusiones de cada una de las pruebas y justifiquen el uso de la prueba que utilizaron.\n"
   ]
  },
  {
   "cell_type": "code",
   "execution_count": null,
   "metadata": {},
   "outputs": [],
   "source": [
    "import pandas as pd\n",
    "\n",
    "url = \"https://raw.githubusercontent.com/Christian-F-Badillo/Ciencia-de-datos-con-Python-de-estadistica-descriptiva-a-redes-neuronales/main/data/hyphotesis_testing/StudentsPerformance.csv\"\n",
    "\n",
    "data = pd.read_csv(url)\n",
    "data.head(10)"
   ]
  },
  {
   "cell_type": "markdown",
   "metadata": {},
   "source": [
    "## Parte 3: Clasificación\n",
    "\n",
    "Usando los datos de los hongos, realicen un análisis de clasificación para predecir si un pasajero sobrevive o no sobrevive, utilizando los siguientes modelos:\n",
    "\n",
    "- Regresión Logística.\n",
    "- Redes Neuronales.\n",
    "\n",
    "Dividan los datos en entrenamiento y prueba en una proporción de 70% y 30% respectivamente. Usen la función `train_test_split` de `sklearn` para dividir los datos.\n",
    "\n",
    "\n",
    "1. Realicen un análisis descriptivo de los datos.\n",
    "2. Realicen un análisis visual de los datos.\n",
    "3. Realicen la evaluación de los modelos usando la matriz de confusión y las métricas de precisión, exactitud, sensibilidad y especificidad. Interpreten los resultados obtenidos. ¿Cuál modelo es mejor? Justifiquen su respuesta."
   ]
  },
  {
   "cell_type": "code",
   "execution_count": null,
   "metadata": {},
   "outputs": [],
   "source": [
    "import pandas as pd\n",
    "\n",
    "url = \"https://raw.githubusercontent.com/Christian-F-Badillo/Ciencia-de-datos-con-Python-de-estadistica-descriptiva-a-redes-neuronales/main/data/mushroom_cleaned.csv\"\n",
    "\n",
    "data = pd.read_csv(url)\n",
    "\n",
    "data.head(10)"
   ]
  }
 ],
 "metadata": {
  "language_info": {
   "name": "python"
  }
 },
 "nbformat": 4,
 "nbformat_minor": 2
}
