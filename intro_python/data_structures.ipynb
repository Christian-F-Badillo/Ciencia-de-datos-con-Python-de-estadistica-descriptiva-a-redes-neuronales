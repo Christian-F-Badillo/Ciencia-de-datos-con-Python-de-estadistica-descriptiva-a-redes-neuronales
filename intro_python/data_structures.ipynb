{
  "cells": [
    {
      "cell_type": "raw",
      "metadata": {},
      "source": [
        "---\n",
        "title: Estructuras de Datos\n",
        "author: Christian Badillo\n",
        "format: html\n",
        "date: today\n",
        "order: 4\n",
        "ipynb-shell-interactivity: all\n",
        "filters:\n",
        "  - pyodide\n",
        "  - fontawesome\n",
        "  - iconify\n",
        "---"
      ],
      "id": "1b28d8f7"
    },
    {
      "cell_type": "markdown",
      "metadata": {},
      "source": [
        "Los datos son la base de la ciencia, son la materia prima con la que trabajamos. Dada su importancia es necesario contar con herramientas que nos permitan manipularlos de manera eficiente. En este sentido, las ***estructuras de datos*** son una herramienta fundamental en la programación. Se definen como formas de organizar y almacenar datos en la memoria de un computador, de tal manera que se puedan acceder y modificar de manera eficiente.\n",
        "\n",
        "En esta lección veremos algunas de las estructuras de datos más comunes en Python, como las listas, tuplas, conjuntos, diccionarios, arreglos de NumPy y `DataFrames` de Pandas, así como las propiedades y métodos que las caracterizan.\n",
        "\n",
        "# Listas\n",
        "\n",
        "Las listas son una de las estructuras de datos más comunes en Python. Se definen como una colección ordenada de elementos, que pueden ser de cualquier tipo. Para definir una lista se utilizan corchetes `[]` y los elementos se separan por comas `,`. \n",
        "\n",
        "```python\n",
        "lista = [1, 2, 3, 4, 5]\n",
        "```\n",
        "Las listas se suelen utilizar para almacenar colecciones de elementos relacionados, como los números de una serie, los nombres de los estudiantes de una clase, las coordenadas de un punto, etc. En general usamos listas cuando necesitamos almacenar una colección de elementos que pueden ser modificados durante la ejecución del programa.\n",
        "\n",
        "Las listas son ***mutables***, lo que significa que se pueden modificar después de haber sido creadas. Por ejemplo, se pueden agregar elementos a una lista con el método `append()`. Los **métodos** son funciones que se pueden aplicar a un objeto, en este caso a una lista y se sigue la sintaxis `objeto.metodo()`. Nuestro objeto es la lista y el método es `append()`.\n",
        "\n",
        "Iniciemos una lista vacía y agreguemos elementos a ella.\n"
      ],
      "id": "4499ada8"
    },
    {
      "cell_type": "code",
      "metadata": {},
      "source": [
        "lista = []\n",
        "lista.append(1)\n",
        "lista.append(2)\n",
        "lista.append(3)\n",
        "\n",
        "print(lista)"
      ],
      "id": "5aee8488",
      "execution_count": null,
      "outputs": []
    },
    {
      "cell_type": "markdown",
      "metadata": {},
      "source": [
        "Otro método útil es `extend()`, que permite agregar varios elementos a la vez.\n"
      ],
      "id": "a9fbb82b"
    },
    {
      "cell_type": "code",
      "metadata": {},
      "source": [
        "lista.extend([4, 5, 6])\n",
        "print(lista)"
      ],
      "id": "3da0b667",
      "execution_count": null,
      "outputs": []
    },
    {
      "cell_type": "markdown",
      "metadata": {},
      "source": [
        "Las listas pueden contener elementos de diferentes tipos, incluso otras listas.\n"
      ],
      "id": "a6f91d3c"
    },
    {
      "cell_type": "code",
      "metadata": {},
      "source": [
        "lista.append([7, 8, 9])\n",
        "print(lista)\n",
        "lista.append('hola')\n",
        "print(lista)"
      ],
      "id": "62a2a0a4",
      "execution_count": null,
      "outputs": []
    },
    {
      "cell_type": "markdown",
      "metadata": {},
      "source": [
        "## Indexación\n",
        "\n",
        "Para acceder a elementos de una lista se utiliza la indexación. Los índices en Python comienzan en 0, por lo que el primer elemento de una lista tiene índice 0, el segundo índice 1 y así sucesivamente. Para acceder a un elemento de una lista se utiliza la sintaxis `nombredelista[indice]`.\n"
      ],
      "id": "f992360d"
    },
    {
      "cell_type": "code",
      "metadata": {},
      "source": [
        "print(lista[0])\n",
        "print(lista[1])\n",
        "print(lista[2])\n",
        "\n",
        "# Acceder al último elemento\n",
        "print(lista[-1])"
      ],
      "id": "cf5dadb6",
      "execution_count": null,
      "outputs": []
    },
    {
      "cell_type": "markdown",
      "metadata": {},
      "source": [
        "## Slicing\n",
        "\n",
        "El *slicing* es una técnica que permite acceder a subconjuntos de elementos de una lista. Se utiliza la sintaxis `nombredelista[inicio:fin]`, donde `inicio` es el índice del primer elemento que se quiere incluir y `fin` es el índice del primer elemento que no se quiere incluir.\n"
      ],
      "id": "4dd07af2"
    },
    {
      "cell_type": "code",
      "metadata": {},
      "source": [
        "print(lista[0:3])\n",
        "print(lista[3:])"
      ],
      "id": "798e5021",
      "execution_count": null,
      "outputs": []
    },
    {
      "cell_type": "markdown",
      "metadata": {},
      "source": [
        "Si no se especifica el índice de inicio, se asume que es 0. Si no se especifica el índice de fin, se asume que es el último elemento de la lista.\n",
        "\n",
        "## Modificación\n",
        "\n",
        "Para modificar un elemento de una lista se utiliza la indexación y la asignación.\n"
      ],
      "id": "fed1c4fb"
    },
    {
      "cell_type": "code",
      "metadata": {},
      "source": [
        "lista[0] = 10\n",
        "print(lista)"
      ],
      "id": "28417c4c",
      "execution_count": null,
      "outputs": []
    },
    {
      "cell_type": "markdown",
      "metadata": {},
      "source": [
        "## Eliminación\n",
        "\n",
        "Para eliminar un elemento de una lista se utiliza el método `remove()` y se especifica el elemento del elemento que se quiere eliminar.\n"
      ],
      "id": "52ee650e"
    },
    {
      "cell_type": "code",
      "metadata": {},
      "source": [
        "lista.remove(10)\n",
        "print(lista)"
      ],
      "id": "dd6b073d",
      "execution_count": null,
      "outputs": []
    },
    {
      "cell_type": "markdown",
      "metadata": {},
      "source": [
        "Si queremos eliminar el último elemento de una lista se puede utilizar el método `pop()`.\n"
      ],
      "id": "a8d83e5c"
    },
    {
      "cell_type": "code",
      "metadata": {},
      "source": [
        "lista.pop()\n",
        "print(lista)"
      ],
      "id": "569297cb",
      "execution_count": null,
      "outputs": []
    },
    {
      "cell_type": "markdown",
      "metadata": {},
      "source": [
        "## Resumen\n",
        "\n",
        "Las listas tienen un gran número de métodos que permiten realizar operaciones sobre ellas. Un resumen de los métodos más comunes es el siguiente:\n",
        "\n",
        "- `append()`: Agrega un elemento al final de la lista.\n",
        "- `extend()`: Agrega varios elementos al final de la lista.\n",
        "- `insert()`: Agrega un elemento en una posición específica.\n",
        "- `remove()`: Elimina un elemento de la lista.\n",
        "- `pop()`: Elimina un elemento de la lista y lo devuelve.\n",
        "- `index()`: Devuelve el índice de un elemento en la lista.\n",
        "- `count()`: Cuenta el número de veces que un elemento aparece en la lista.\n",
        "- `sort()`: Ordena los elementos de la lista en orden ascendente.\n",
        "- `reverse()`: Invierte el orden de los elementos de la lista.\n",
        "- `copy()`: Crea una copia de la lista.\n",
        "\n",
        "Vale la pena hacer enfásis en que no es necesario aprenderse todos los métodos de memoria, sino que es más importante entender para qué y cómo se pueden utilizar las listas, los métodos se pueden consultar en la documentación de Python, buscando en Google o preguntandole a ChatGPT.\n",
        "\n",
        "# Tuplas\n",
        "\n",
        "Las tuplas son una estructura de datos similar a las listas, pero con la diferencia de que son ***inmutables***, es decir, una vez creadas no se pueden modificar. Se definen utilizando paréntesis `()` y los elementos se separan por comas `,`.\n",
        "\n",
        "```python\n",
        "tupla = (1, 2, 3, 4, 5)\n",
        "```\n",
        "\n",
        "Las tuplas se utilizan cuando se necesita almacenar una colección de elementos que no van a cambiar durante la ejecución del programa como el número de ensayos de un experimento, las coordenadas de un punto, etc.\n",
        "\n",
        "Las tuplas soportan indexación, slicing y la función `len()` para obtener la longitud de la tupla.\n"
      ],
      "id": "ce129140"
    },
    {
      "cell_type": "code",
      "metadata": {},
      "source": [
        "tupla = (1, 2, 3, 4, 5)\n",
        "\n",
        "print(tupla[0])\n",
        "print(tupla[1])\n",
        "\n",
        "print(tupla[0:3])\n",
        "\n",
        "print(len(tupla))"
      ],
      "id": "0e8051ed",
      "execution_count": null,
      "outputs": []
    },
    {
      "cell_type": "markdown",
      "metadata": {},
      "source": [
        "Las tuplas también pueden contener elementos de diferentes tipos y otras tuplas.\n"
      ],
      "id": "236ee217"
    },
    {
      "cell_type": "code",
      "metadata": {},
      "source": [
        "tupla = (1, 2, 3, (4, 5), 'hola', [6, 7, 8])\n",
        "print(tupla)"
      ],
      "id": "fac0688d",
      "execution_count": null,
      "outputs": []
    },
    {
      "cell_type": "markdown",
      "metadata": {},
      "source": [
        "# Conjuntos\n",
        "\n",
        "Los conjuntos son una estructura de datos que almacena elementos únicos, es decir, no se pueden repetir. Se definen utilizando llaves `{}` y los elementos se separan por comas `,`. \n",
        "\n",
        "```python\n",
        "conjunto = {1, 2, 3, 4, 5}\n",
        "```\n",
        "\n",
        "Funcionan igual que los conjuntos matemáticos, por lo que se pueden realizar operaciones como unión, intersección, diferencia, etc. Los conjuntos no soportan indexación ni slicing, ya que no tienen un **orden** definido.\n"
      ],
      "id": "d99ebd1c"
    },
    {
      "cell_type": "code",
      "metadata": {},
      "source": [
        "conjunto1 = {1, 2, 3, 4, 5}\n",
        "conjunto2 = {4, 5, 6, 7, 8}\n",
        "\n",
        "# Unión de conjuntos\n",
        "print(conjunto1.union(conjunto2))\n",
        "\n",
        "# Intersección de conjuntos\n",
        "print(conjunto1.intersection(conjunto2))\n",
        "\n",
        "# Diferencia de conjuntos\n",
        "print(conjunto1.difference(conjunto2))\n",
        "\n",
        "# Diferencia simétrica de conjuntos\n",
        "print(conjunto1.symmetric_difference(conjunto2))"
      ],
      "id": "a59852d8",
      "execution_count": null,
      "outputs": []
    },
    {
      "cell_type": "markdown",
      "metadata": {},
      "source": [
        "Se pueden agregar elementos a un conjunto con el método `add()` y eliminar elementos con el método `remove()`.\n"
      ],
      "id": "35abb3c3"
    },
    {
      "cell_type": "code",
      "metadata": {},
      "source": [
        "conjunto = {1, 2, 3, 4, 5}\n",
        "conjunto.add(6)\n",
        "print(conjunto)\n",
        "\n",
        "conjunto.remove(6)\n",
        "print(conjunto)"
      ],
      "id": "c9c5f256",
      "execution_count": null,
      "outputs": []
    },
    {
      "cell_type": "markdown",
      "metadata": {},
      "source": [
        "# Diccionarios\n",
        "\n",
        "Los diccionarios son una estructura de datos que almacena pares de clave-valor, es decir, cada elemento del diccionario tiene una clave que lo identifica y un valor asociado. Se definen utilizando llaves `{}`, los pares clave-valor se separan por comas `,` y la clave y el valor se separan por dos puntos `:`.\n",
        "\n",
        "```python\n",
        "diccionario = {'nombre': 'Juan', 'edad': 25, 'ciudad': 'Bogotá'}\n",
        "```\n",
        "\n",
        "Para acceder a un valor de un diccionario se utiliza la clave correspondiente.\n"
      ],
      "id": "b3e26801"
    },
    {
      "cell_type": "code",
      "metadata": {},
      "source": [
        "diccionario = {'nombre': 'Juan', 'edad': 25, 'ciudad': 'Bogotá'}\n",
        "\n",
        "print(diccionario['nombre'])\n",
        "print(diccionario['edad'])\n",
        "print(diccionario['ciudad'])"
      ],
      "id": "54b80fe9",
      "execution_count": null,
      "outputs": []
    },
    {
      "cell_type": "markdown",
      "metadata": {},
      "source": [
        "Este tipo de estructura es muy útil para almacenar información estructurada, como los datos de una persona, los resultados de un experimento, etc. Los diccionarios son mutables, por lo que se pueden modificar, agregar y eliminar elementos.\n"
      ],
      "id": "32af6810"
    },
    {
      "cell_type": "code",
      "metadata": {},
      "source": [
        "# Modificar un valor\n",
        "diccionario['edad'] = 30\n",
        "print(diccionario)\n",
        "\n",
        "# Agregar un nuevo par clave-valor\n",
        "diccionario['telefono'] = '123456789'\n",
        "print(diccionario)\n",
        "\n",
        "# Eliminar un par clave-valor\n",
        "del diccionario['telefono']\n",
        "print(diccionario)"
      ],
      "id": "dfddc3b0",
      "execution_count": null,
      "outputs": []
    },
    {
      "cell_type": "markdown",
      "metadata": {},
      "source": [
        "Los diccionarios tienen varios métodos útiles, como `keys()`, `values()` y `items()` que permiten obtener las claves, los valores y los pares clave-valor del diccionario, respectivamente.\n"
      ],
      "id": "251b972a"
    },
    {
      "cell_type": "code",
      "metadata": {},
      "source": [
        "print(diccionario.keys())\n",
        "\n",
        "print(diccionario.values())\n",
        "\n",
        "print(diccionario.items())"
      ],
      "id": "86810dfc",
      "execution_count": null,
      "outputs": []
    },
    {
      "cell_type": "markdown",
      "metadata": {},
      "source": [
        "Es importante tener en cuenta que las claves de un diccionario deben ser únicas, es decir, no puede haber dos claves iguales en un diccionario. Si se intenta agregar una clave que ya existe, se reemplazará el valor asociado a esa clave. \n",
        "\n",
        "Otra característica importante de los diccionarios es que no tienen un orden definido, es decir, los elementos no se almacenan en el orden en que se agregaron, pero son altamente eficientes para buscar y acceder a elementos por su clave, formalmente se dice que tienen una complejidad de tiempo de acceso de $O(1)$ una caractertica común en las estructuras de datos de tipo *hash*.\n",
        "\n",
        "## Ejericios\n",
        "\n",
        "1. Crea una lista con los números del 1 al 10 y calcula la suma de los elementos. Pista: utiliza la función `sum()` de Python.\n",
        "\n",
        "2. Crea una tupla con los nombres de los días de la semana y accede al tercer día. Intenta modificar el tercer día y observa qué sucede.\n",
        "\n",
        "3. Crea una variable con la letra de una canción que te guste, separa las palabras en una lista, guarda esa lista en una variable y accede a la primera y última palabra. Pista: utiliza el método `split()` de Python.\n",
        "\n",
        "4. Convierte la lista de palabras en un conjunto y observa qué sucede. ¿Qué diferencias encuentras entre la lista y el conjunto? Intenta agregar una palabra al conjunto y observa qué sucede. Pista: utiliza la función `set()` de Python y el método `add()` de los conjuntos.\n",
        "\n",
        "5. Crea una función para contar palabras en un texto, cuenta las palabras distintas en la letra de una canción que te guste y almacenalas en un diccionario con la palabra como clave y el número de veces que aparece como valor. Pista: utiliza el método `split()` para separar las palabras\n",
        "\n",
        "# Arreglos de NumPy\n",
        "\n",
        "[NumPy](https://numpy.org/) es una librería de Python que permite trabajar con arreglos multidimensionales de manera eficiente. Los arreglos de NumPy son similares a las listas de Python, pero con la diferencia de que todos los elementos de un arreglo de NumPy deben ser del mismo tipo. Se definen utilizando la función `array()` de NumPy.\n",
        "\n",
        "```python\n",
        "import numpy as np\n",
        "\n",
        "arreglo = np.array([1, 2, 3, 4, 5])\n",
        "```\n",
        "\n",
        "Este tipo de estructuras son ampliamente utilizadas en la ciencia de datos, ya que permiten realizar operaciones matemáticas sobre los datos de manera eficiente. Los arreglos de NumPy soportan indexación, slicing y operaciones matemáticas como suma, resta, multiplicación, operacioens de matrices, etc.\n"
      ],
      "id": "ce56db93"
    },
    {
      "cell_type": "code",
      "metadata": {},
      "source": [
        "import numpy as np\n",
        "\n",
        "arreglo = np.array([1, 2, 3, 4, 5]) # Crear un arreglo de NumPy\n",
        "\n",
        "print(arreglo) # Imprimir el arreglo\n",
        "\n",
        "print(arreglo[0]) # Acceder al primer elemento\n",
        "\n",
        "print(arreglo[0:3]) # Acceder a los primeros tres elementos\n",
        "\n",
        "print(arreglo + 10) # Sumar 10 a cada elemento\n",
        "\n",
        "print(arreglo * 2) # Multiplicar cada elemento por 2"
      ],
      "id": "2965ba64",
      "execution_count": null,
      "outputs": []
    },
    {
      "cell_type": "markdown",
      "metadata": {},
      "source": [
        "Las operaicones matemáticas en NumPy se realizan elemento a elemento, es decir, se aplican a cada elemento del arreglo por separado. Esto es muy útil para realizar operaciones matemáticas sobre grandes cantidades de datos de manera eficiente.\n",
        "\n",
        "Podemos crear arreglos de NumPy multidimensionales, es decir, arreglos que contienen otros arreglos. Por ejemplo, un arreglo de dos dimensiones es similar a una matriz.\n"
      ],
      "id": "30508519"
    },
    {
      "cell_type": "code",
      "metadata": {},
      "source": [
        "import numpy as np\n",
        "\n",
        "matriz = np.array([[1, 2, 3], \n",
        "                    [4, 5, 6], \n",
        "                    [7, 8, 9]])\n",
        "\n",
        "print(matriz)"
      ],
      "id": "fbc13608",
      "execution_count": null,
      "outputs": []
    },
    {
      "cell_type": "markdown",
      "metadata": {},
      "source": [
        "Para acceder a elementos de una matriz se utiliza la indexación con dos índices, uno para la fila y otro para la columna.\n"
      ],
      "id": "93b4a5ab"
    },
    {
      "cell_type": "code",
      "metadata": {},
      "source": [
        "print(matriz[0, 0]) # Primer elemento, fila 0, columna 0\n",
        "print(matriz[1, 0]) # Elemento en la fila 1, columna 0\n",
        "print(matriz[2, 2]) # Último elemento, fila 2, columna 2"
      ],
      "id": "6e9853e2",
      "execution_count": null,
      "outputs": []
    },
    {
      "cell_type": "markdown",
      "metadata": {},
      "source": [
        "# DataFrames de Pandas\n",
        "\n",
        "[Pandas](https://pandas.pydata.org/) es una librería de Python que permite trabajar con datos estructurados de manera eficiente. Una de las estructuras de datos más importantes de Pandas es el `DataFrame`, que es una tabla de datos bidimensional con filas y columnas. Se puede pensar en un `DataFrame` como una hoja de cálculo de Excel o una tabla de una base de datos.\n",
        "\n",
        "Para crear un `DataFrame` se utiliza la función `DataFrame()` de Pandas y se le pasa un diccionario con los datos.\n"
      ],
      "id": "a1182a35"
    },
    {
      "cell_type": "code",
      "metadata": {},
      "source": [
        "import pandas as pd\n",
        "\n",
        "datos = {'nombre': ['Juan', 'María', 'Pedro', 'Ana'],\n",
        "         'edad': [25, 30, 35, 40],\n",
        "         'ciudad': ['Bogotá', 'Medellín', 'Cali', 'Barranquilla']}\n",
        "\n",
        "df = pd.DataFrame(datos)\n",
        "\n",
        "print(df)"
      ],
      "id": "b9480e78",
      "execution_count": null,
      "outputs": []
    },
    {
      "cell_type": "markdown",
      "metadata": {},
      "source": [
        "Pandas incluye una serie de funciones y métodos para trabajar con `DataFrames`, como `head()`, `tail()`, `info()`, `describe()`, etc. Exploraremos en profundidad estas funciones en una lección posterior.\n",
        "\n",
        "## Slicing en DataFrames\n",
        "\n",
        "Por ahora veamos cómo acceder a elementos de un `DataFrame`. Podemos acceder a las primeras y últimas filas de un `DataFrame` utilizando los métodos `head()` y `tail()`, respectivamente\n"
      ],
      "id": "22b8c7ea"
    },
    {
      "cell_type": "code",
      "metadata": {},
      "source": [
        "# Cargo un conjunto de datos de ejemplo\n",
        "df = pd.read_csv('https://raw.githubusercontent.com/mwaskom/seaborn-data/master/iris.csv') \n",
        "\n",
        "df.head() # Imprimir las primeras filas del DataFrame\n",
        "\n",
        "df.tail() # Imprimir las últimas filas del DataFrame"
      ],
      "id": "79ee6db9",
      "execution_count": null,
      "outputs": []
    },
    {
      "cell_type": "markdown",
      "metadata": {},
      "source": [
        "Podemos acceder a las columnas de un `DataFrame` utilizando la indexación con corchetes `[]` y el nombre de la columna entre comillas simples o dobles.\n"
      ],
      "id": "04bac497"
    },
    {
      "cell_type": "code",
      "metadata": {},
      "source": [
        "df['sepal_length'] # Acceder a la columna 'sepal_length'"
      ],
      "id": "beff67d5",
      "execution_count": null,
      "outputs": []
    },
    {
      "cell_type": "markdown",
      "metadata": {},
      "source": [
        "Otra manera de acceder a una columna es utilizando la notación de punto `.` y el nombre de la columna, pero esta forma no es muy usada dado que complica el acceso a columnas con nombres que contienen espacios o caracteres especiales.\n"
      ],
      "id": "f2f602b6"
    },
    {
      "cell_type": "code",
      "metadata": {},
      "source": [
        "df.sepal_length # Acceder a la columna 'sepal_length'"
      ],
      "id": "d743877b",
      "execution_count": null,
      "outputs": []
    },
    {
      "cell_type": "markdown",
      "metadata": {},
      "source": [
        "También podemos acceder a filas y columnas utilizando la función `loc[]` y los nombres de las filas y columnas.\n"
      ],
      "id": "0041ad50"
    },
    {
      "cell_type": "code",
      "metadata": {},
      "source": [
        "df.loc[:, 'sepal_length'] # Acceder al elemento en la fila 0 y columna 'sepal_length'\n",
        "# Recuerden que si usamos : estamos seleccionando todas las filas, primero se seleccionan las filas y luego las columnas"
      ],
      "id": "bee34683",
      "execution_count": null,
      "outputs": []
    },
    {
      "cell_type": "markdown",
      "metadata": {},
      "source": [
        "Si queremos seleccionar varias columnas podemos pasar una lista con los nombres de las columnas.\n"
      ],
      "id": "07c80946"
    },
    {
      "cell_type": "code",
      "metadata": {},
      "source": [
        "col_names = ['sepal_length', 'sepal_width']\n",
        "df.loc[:, col_names] # Acceder a las columnas 'sepal_length' y 'sepal_width'"
      ],
      "id": "31937e5b",
      "execution_count": null,
      "outputs": []
    },
    {
      "cell_type": "markdown",
      "metadata": {},
      "source": [
        "Si queremos seleccionar las filas 5, 14, 23 y las columnas 'sepal_length' y 'sepal_width' podemos hacerlo de la siguiente manera.\n"
      ],
      "id": "410625c7"
    },
    {
      "cell_type": "code",
      "metadata": {},
      "source": [
        "filas = [5, 14, 23]\n",
        "col_names = ['sepal_length', 'sepal_width']\n",
        "\n",
        "df.loc[filas, col_names] # Acceder a las filas 5, 14, 23 y las columnas 'sepal_length' y 'sepal_width'"
      ],
      "id": "2ec667fb",
      "execution_count": null,
      "outputs": []
    },
    {
      "cell_type": "markdown",
      "metadata": {},
      "source": [
        "## Modificación de DataFrames\n",
        "\n",
        "Podemos agregar una nueva columna a un `DataFrame` utilizando la notación de corchetes `[]` y el nombre de la nueva columna y asignándole una lista con los valores de la columna.\n",
        "\n",
        "Creemos una nueva columna que contenga la suma de las columnas 'sepal_length' y 'sepal_width'.\n"
      ],
      "id": "1ca675e3"
    },
    {
      "cell_type": "code",
      "metadata": {},
      "source": [
        "df['sepal_sum'] = df['sepal_length'] + df['sepal_width']\n",
        "df.head()"
      ],
      "id": "f04a3ba1",
      "execution_count": null,
      "outputs": []
    },
    {
      "cell_type": "markdown",
      "metadata": {},
      "source": [
        "Para eliminar una columna de un `DataFrame` se utiliza el método `drop()` y se pasa el nombre de la columna y el eje en el que se quiere eliminar, los ejes son 0 para filas y 1 para columnas.\n"
      ],
      "id": "35822603"
    },
    {
      "cell_type": "code",
      "metadata": {},
      "source": [
        "df.drop('sepal_sum', axis=1, inplace=True)\n",
        "df.head()"
      ],
      "id": "48fc272f",
      "execution_count": null,
      "outputs": []
    },
    {
      "cell_type": "markdown",
      "metadata": {},
      "source": [
        "El parámetro `inplace=True` indica que la operación se realice sobre el `DataFrame` original, si se omite se crea una copia del `DataFrame` con la columna eliminada, pero si esta copia no se asigna a una variable se perderá.\n",
        "\n",
        "Si queremos modificar un valor de un `DataFrame` se localiza el elemento con `loc[]` y se asigna el nuevo valor.\n"
      ],
      "id": "fabdd555"
    },
    {
      "cell_type": "code",
      "metadata": {},
      "source": [
        "df.head()\n",
        "df.loc[0, 'sepal_length'] = 10\n",
        "df.head()"
      ],
      "id": "eeb723fc",
      "execution_count": null,
      "outputs": []
    },
    {
      "cell_type": "markdown",
      "metadata": {},
      "source": [
        "# Conclusiones\n",
        "\n",
        "En esta lección hemos visto algunas de las estructuras de datos más comunes en Python, como las listas, tuplas, conjuntos, diccionarios, arreglos de NumPy y `DataFrames` de Pandas. Cada una de estas estructuras tiene sus propias características y métodos que permiten realizar operaciones sobre los datos de manera eficiente. Cada estructura de datos es adecuada para diferentes tipos de problemas, por lo que es importante conocerlas y saber cuándo utilizar cada una. En las siguientes lecciones veremos cómo trabajar con estas estructuras de datos en la práctica y cómo realizar operaciones más avanzadas sobre los datos.\n"
      ],
      "id": "814cbd66"
    }
  ],
  "metadata": {
    "kernelspec": {
      "name": "python3",
      "language": "python",
      "display_name": "Python 3 (ipykernel)"
    }
  },
  "nbformat": 4,
  "nbformat_minor": 5
}