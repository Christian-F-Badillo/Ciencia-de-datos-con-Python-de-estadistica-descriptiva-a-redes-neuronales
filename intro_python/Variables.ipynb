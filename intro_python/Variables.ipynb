{
  "cells": [
    {
      "cell_type": "raw",
      "metadata": {},
      "source": [
        "---\n",
        "title: \"Declaración de Variables y Operaciones\"\n",
        "author: \"Christian Badillo\"\n",
        "format: html\n",
        "date: today\n",
        "order: 2\n",
        "filters:\n",
        "  - pyodide\n",
        "  - fontawesome\n",
        "  - iconify\n",
        "---"
      ],
      "id": "c576a8a9"
    },
    {
      "cell_type": "markdown",
      "metadata": {},
      "source": [
        "# Variables y tipos de variables\n",
        "\n",
        "En Python utilizamos variables para almacenar información en la memoria de la computadora. Las variables son como cajas en las que podemos guardar información, cada caja tiene un nombre y un contenido. Existen varias reglas para dar nombre a las variables en Python:\n",
        "\n",
        "- El nombre debe comenzar con una letra o un guión bajo.\n",
        "- No puede comenzar con un número.\n",
        "- Puede contener letras, números y guiones bajos.\n",
        "\n",
        "El proceso de crear (dar valor) a una variable se conoce como ***declaración de variables*** y es sensible a mayúsculas y minúsculas. Esto significa que si declaramos las variables `nombre`, `Nombre` y `NOMBRE` serán diferentes.\n"
      ],
      "id": "e74fbc2e"
    },
    {
      "cell_type": "code",
      "metadata": {},
      "source": [
        "nombre = \"Christian\"\n",
        "Nombre = \"Jimena\"\n",
        "NOMBRE = \"Luis\"\n",
        "\n",
        "print(nombre == Nombre)\n",
        "print(Nombre == NOMBRE)\n",
        "print(NOMBRE == nombre)"
      ],
      "id": "bc7f0536",
      "execution_count": null,
      "outputs": []
    },
    {
      "cell_type": "markdown",
      "metadata": {},
      "source": [
        "Por lo cual podemos ver que las variables `nombre`, `Nombre` y `NOMBRE` son diferentes, pues al realizar la comparación entre ellas, el resultado es `False`, también podemos observar la forma de declarar variables en Python, la cual es `nombre_variable = valor_variable`.\n",
        "\n",
        "Podemos sobrescribir el contenido de una variable en cualquier momento.\n"
      ],
      "id": "3fe0b99a"
    },
    {
      "cell_type": "code",
      "metadata": {},
      "source": [
        "print(nombre)\n",
        "nombre = \"Cesar\"\n",
        "print(nombre)"
      ],
      "id": "af05f1df",
      "execution_count": null,
      "outputs": []
    },
    {
      "cell_type": "markdown",
      "metadata": {},
      "source": [
        "En el ejemplo anterior, hemos cambiado el contenido de la variable `nombre` de \"Christian\" a \"Cesar\". En Python, podemos asignar cualquier tipo de dato a una variable. Los tipos de datos más comunes en Python son:\n",
        "\n",
        "- `int`: Números enteros.\n",
        "- `float`: Números decimales.\n",
        "- `str`: Cadenas de texto.\n",
        "- `bool`: Valores booleanos (verdadero o falso).\n",
        "- `list`: Listas de elementos.\n",
        "- `tuple`: Tuplas de elementos.\n",
        "- `dict`: Diccionarios de elementos.\n",
        "\n",
        "## Tipos de Variables\n",
        "\n",
        "### Números enteros y decimales\n",
        "\n",
        "Los ***números enteros*** son números que no tienen parte decimal. En Python, podemos declarar un número entero de la siguiente manera:\n"
      ],
      "id": "bec3b687"
    },
    {
      "cell_type": "code",
      "metadata": {},
      "source": [
        "numero_entero = 10\n",
        "print(numero_entero)"
      ],
      "id": "76b00ef3",
      "execution_count": null,
      "outputs": []
    },
    {
      "cell_type": "markdown",
      "metadata": {},
      "source": [
        "Otra forma de declarar un número entero es utilizando la función `int()` para convertir un número decimal o un booleano a un número entero. Veamos un ejemplo:\n"
      ],
      "id": "fda13f1e"
    },
    {
      "cell_type": "code",
      "metadata": {},
      "source": [
        "numero_entero = int(10.5)\n",
        "print(numero_entero)\n",
        "numero_entero = int(10.6)\n",
        "print(numero_entero)\n",
        "\n",
        "numero_entero = int(True)\n",
        "print(numero_entero)"
      ],
      "id": "27abef89",
      "execution_count": null,
      "outputs": []
    },
    {
      "cell_type": "markdown",
      "metadata": {},
      "source": [
        "Los ***números decimales*** son números que tienen parte decimal. En Python, podemos declarar un número decimal de la siguiente manera:\n"
      ],
      "id": "1efafba5"
    },
    {
      "cell_type": "code",
      "metadata": {},
      "source": [
        "numero_decimal = 10.5\n",
        "print(numero_decimal)"
      ],
      "id": "fe4177cf",
      "execution_count": null,
      "outputs": []
    },
    {
      "cell_type": "markdown",
      "metadata": {},
      "source": [
        "Otra forma de declarar un número decimal es utilizando la función `float()` para convertir un número entero o un booleano a un número decimal.\n"
      ],
      "id": "7f271b55"
    },
    {
      "cell_type": "code",
      "metadata": {},
      "source": [
        "numero_decimal = float(10)\n",
        "print(numero_decimal)\n",
        "\n",
        "numero_decimal = float(True)\n",
        "print(numero_decimal)"
      ],
      "id": "65405229",
      "execution_count": null,
      "outputs": []
    },
    {
      "cell_type": "markdown",
      "metadata": {},
      "source": [
        "Igualmente podemos utilizar la nota científica para declarar un número decimal en Python con la letra `e` seguida de un número entero por ejemplo, `22e10` es equivalente a $22 * 10^10$. En código:\n"
      ],
      "id": "5ed29f45"
    },
    {
      "cell_type": "code",
      "metadata": {},
      "source": [
        "numero_decimal = 1.5e2\n",
        "print(numero_decimal)\n",
        "\n",
        "numero_decimal = 1.5e-2\n",
        "print(numero_decimal)"
      ],
      "id": "ce121165",
      "execution_count": null,
      "outputs": []
    },
    {
      "cell_type": "markdown",
      "metadata": {},
      "source": [
        "### Cadenas de texto\n",
        "\n",
        "Las ***cadenas de texto*** son una secuencia de carácteres (letras, números y símbolos). En Python, se pueden declarar cadenas de texto utilizando comillas simples `'` o comillas dobles `\"`. Veamos un ejemplo:\n"
      ],
      "id": "8c5451ab"
    },
    {
      "cell_type": "code",
      "metadata": {},
      "source": [
        "cadena_texto = \"Hola Mundo\"\n",
        "print(cadena_texto)"
      ],
      "id": "a6a6efa8",
      "execution_count": null,
      "outputs": []
    },
    {
      "cell_type": "markdown",
      "metadata": {},
      "source": [
        "Otra forma de declarar una cadena de texto es utilizando la función `str()` para convertir un número entero, decimal o booleano a una cadena de texto. También podemos combinar las comillas simples y dobles para poder usar una o la otra dentro de la cadena de texto. Por ejemplo:\n"
      ],
      "id": "e9b0b257"
    },
    {
      "cell_type": "code",
      "metadata": {},
      "source": [
        "texto= 'No te procupes, solo es un \"amigo\" / \"amiga\"'\n",
        "print(texto)"
      ],
      "id": "d15ba90f",
      "execution_count": null,
      "outputs": []
    },
    {
      "cell_type": "markdown",
      "metadata": {},
      "source": [
        "Tambén podemos imprimir saltos de línea (`\\n`), tabulaciones (`\\t`) y caracteres especiales en una cadena de texto. Por ejemplo:\n"
      ],
      "id": "b1e9fbff"
    },
    {
      "cell_type": "code",
      "metadata": {},
      "source": [
        "texto = \"Las rosas son rojas,\\nLas violetas son azules,\\nViva el team frio,\\nQuiero un pan \\U0001F35E\\n\"\n",
        "\n",
        "print(texto)\n",
        "\n",
        "texto = \"\\n\\t Aqui no se habla\\n\\tdel formato APA\\n\\tNo, no, no 🫠\"\n",
        "\n",
        "print(texto)"
      ],
      "id": "86a9b902",
      "execution_count": null,
      "outputs": []
    },
    {
      "cell_type": "markdown",
      "metadata": {},
      "source": [
        "### Valores booleanos\n",
        "\n",
        "Los ***valores booleanos*** son valores lógicos que pueden ser `True` (verdadero) o `False` (falso). En Python, podemos declarar un valor booleano de la siguiente manera:\n"
      ],
      "id": "7feff83f"
    },
    {
      "cell_type": "code",
      "metadata": {},
      "source": [
        "valor_booleano = True\n",
        "print(valor_booleano)"
      ],
      "id": "4c60d25e",
      "execution_count": null,
      "outputs": []
    },
    {
      "cell_type": "markdown",
      "metadata": {},
      "source": [
        "Igualmente existe la función `bool()` pero su uso es poco utilizado, ya que los valores booleanos se utilizan principalmente en condicionales y bucles, además es necesario conocer que cosas se consideran `True` y `False` en Python.\n"
      ],
      "id": "7a495b97"
    },
    {
      "cell_type": "code",
      "metadata": {},
      "source": [
        "valor_booleano = bool(0)\n",
        "print(valor_booleano)\n",
        "valor_booleano = bool(1)\n",
        "print(valor_booleano)\n",
        "\n",
        "valor_booleano = bool([])\n",
        "print(valor_booleano)\n",
        "valor_booleano = bool([1, 2, 3])\n",
        "print(valor_booleano)"
      ],
      "id": "8fde201e",
      "execution_count": null,
      "outputs": []
    },
    {
      "cell_type": "markdown",
      "metadata": {},
      "source": [
        "Si recuerdan sus clases de Lógica, podrán crear una tabla de verdad para evaluar proposiciones lógicas en Python.\n",
        "\n",
        "### Documentación de código\n",
        "\n",
        "La ***documentación*** de código es una práctica común en programación y una buena costumbre para escribir código limpio y legible. En Python, podemos documentar nuestro código utilizando comentarios.\n",
        "\n",
        "Los ***comentarios*** son líneas de código que no se ejecutan y se utilizan para explicar el código. En Python, los comentarios se crean utilizando el símbolo `#` y cualquier texto que se escriba después de este símbolo se considera un comentario y no se ejecuta.\n"
      ],
      "id": "061179fb"
    },
    {
      "cell_type": "code",
      "metadata": {},
      "source": [
        "# Esto es un comentario\n",
        "print(\"Hola Mundo\") # Aquí podemos comentar que hace esta línea de código"
      ],
      "id": "217723fa",
      "execution_count": null,
      "outputs": []
    },
    {
      "cell_type": "markdown",
      "metadata": {},
      "source": [
        "También podemos crear comentarios multilínea utilizando tres comillas simples `'''` o tres comillas dobles `\"\"\"`, se utiliza mucho esta forma de comentar para documentar funciones o clases, como lo veremos más adelante.\n",
        "\n",
        "### Ejercicios 1.1\n",
        "\n",
        "En el siguiente bloque podrán ejecutar código de Python usando su navegador web. Igualmente pueden hacerlo en su computadora o en la nube utilizando [Google Colab](https://colab.research.google.com/) o [Kaggle](https://www.kaggle.com/). Para cada ejercicio deber de escribir su propio código, crear un comentario con sus datos, crear su solución y tomar una captura de pantalla del resultado. Finalmente, subir la captura a la asignación correspondiente en Google Classroom.\n",
        "\n",
        "1. Declarar una variable de cada tipo de dato en Python (entero, decimal, cadena de texto y booleano) e imprimir su valor.\n",
        "\n",
        "2. Declarar una variable con el nombre `poema` y asignarle un poema de su elección. Imprimir el poema en la consola con el formato adecuado. (Pueden utilizar emojis si lo desean).\n",
        "\n",
        "```{pyodide-python}\n",
        "# Ejemplo de cómo deberán comentar su código\n",
        "# Nombre: Christian Badillo\n",
        "# Fecha: 10 de junio de 2024\n",
        "\n",
        "# Ejercicio 1\n",
        "print(\"Solución del ejercicio 1\")\n",
        "\n",
        "# Ejercicio 2\n",
        "print(\"\"\"Solución \n",
        "del ejercicio 2\"\"\")\n",
        "```\n",
        "\n",
        "# Operaciones de variables\n",
        "\n",
        "En Python, podemos realizar operaciones matemáticas con variables de tipo entero y decimal. Las operaciones matemáticas más comunes en Python son:\n",
        "\n",
        "- Suma: `+`.\n",
        "- Resta: `-`.\n",
        "- Multiplicación: `*`.\n",
        "- División: `/`.\n",
        "- Módulo: `%`.\n",
        "- Potencia: `**`.\n",
        "- División entera: `//`.\n",
        "- Raíz cuadrada: `sqrt()` ó `** 0.5`.\n",
        "- Operaciones de comparación: `==`, `!=`, `>`, `<`, `>=`, `<=`.\n",
        "- Operaciones lógicas: `and`, `or`, `not`.\n",
        "\n",
        "## Operaciones aritméticas\n",
        "\n",
        "Las ***operaciones aritméticas*** son operaciones matemáticas que se realizan con números. En Python, podemos realizar operaciones aritméticas con variables de tipo entero y decimal, como si fuese una calculadora.\n"
      ],
      "id": "5580a8e5"
    },
    {
      "cell_type": "code",
      "metadata": {},
      "source": [
        "from math import sqrt\n",
        "# Sumemos dos numeros\n",
        "numero1 = 10\n",
        "numero2 = 5\n",
        "\n",
        "suma = numero1 + numero2 # 10 + 5 = 15\n",
        "print(suma)\n",
        "\n",
        "# Restemos dos numeros\n",
        "resta = numero1 - numero2 # 10 - 5 = 5\n",
        "print(resta)\n",
        "\n",
        "# Multipliquemos dos numeros\n",
        "multiplicacion = numero1 * numero2 # 10 * 5 = 50\n",
        "print(multiplicacion)\n",
        "\n",
        "# Dividamos dos numeros\n",
        "division = numero1 / numero2 # 10 / 5 = 2.0\n",
        "print(division)\n",
        "\n",
        "# Dividamos y solo tomemos la parte entera\n",
        "division_entera = numero1 // numero2 # 10 // 5 = 2\n",
        "print(division_entera)\n",
        "\n",
        "# Calculemos el residuo de la división\n",
        "modulo = numero1 % numero2 # 10 % 5 = 0\n",
        "print(modulo)\n",
        "\n",
        "# Elevemos un numero a una potencia\n",
        "potencia = numero1 ** numero2 # 10 ^ 5 = 100000\n",
        "print(potencia)\n",
        "\n",
        "# Calculemos la raiz cuadrada de un numero\n",
        "raiz_cuadrada = numero1 ** 0.5 # sqrt(10) = 3.1622776601683795\n",
        "raiz_cuadrada2 = sqrt(numero2) # sqrt(5) = 2.23606797749979\n",
        "print(raiz_cuadrada)\n",
        "print(raiz_cuadrada2)"
      ],
      "id": "c735b633",
      "execution_count": null,
      "outputs": []
    },
    {
      "cell_type": "markdown",
      "metadata": {},
      "source": [
        "## Operaciones de comparación\n",
        "\n",
        "Las ***operaciones de comparación*** son operaciones que se utilizan para comparar dos valores y devuelven un valor booleano (`True` o `False`).\n"
      ],
      "id": "a2a08a4f"
    },
    {
      "cell_type": "code",
      "metadata": {},
      "source": [
        "# Comparar si dos numeros son iguales\n",
        "numero1 = 148\n",
        "numero2 = 47\n",
        "\n",
        "comparacion = numero1 == numero2\n",
        "print(comparacion)\n",
        "\n",
        "# Comparar si dos numeros son diferentes\n",
        "comparacion = numero1 != numero2\n",
        "print(comparacion)\n",
        "\n",
        "# Comparar si un numero es mayor que otro\n",
        "comparacion = numero1 > numero2\n",
        "print(comparacion)\n",
        "\n",
        "# Comparar si un numero es menor que otro\n",
        "comparacion = numero1 < numero2\n",
        "print(comparacion)\n",
        "\n",
        "# Comparar si un numero es mayor o igual que otro\n",
        "comparacion = numero1 >= numero2\n",
        "print(comparacion)\n",
        "\n",
        "# Comparar si un numero es menor o igual que otro\n",
        "comparacion = numero1 <= numero2\n",
        "print(comparacion)"
      ],
      "id": "4f365f46",
      "execution_count": null,
      "outputs": []
    },
    {
      "cell_type": "markdown",
      "metadata": {},
      "source": [
        "## Operaciones con cadenas de texto\n",
        "\n",
        "Las ***operaciones con cadenas de texto*** son operaciones que se utilizan para concatenar, multiplicar y comparar cadenas de texto. Se utilizan principalmente para manipular texto en Python.\n",
        "\n",
        "Para concatenar dos cadenas de texto, simplemente se utilizan el operador `+`."
      ],
      "id": "5e22b0b3"
    },
    {
      "cell_type": "code",
      "metadata": {},
      "source": [
        "# Concatenar dos cadenas de texto\n",
        "cadena1 = \"Hola\"\n",
        "cadena2 = \"Mundo\"\n",
        "\n",
        "concatenacion = cadena1 + \" \" + cadena2\n",
        "print(concatenacion)"
      ],
      "id": "6ea62a55",
      "execution_count": null,
      "outputs": []
    },
    {
      "cell_type": "markdown",
      "metadata": {},
      "source": [
        "Para multiplicar una cadena de texto por un número entero, simplemente se utiliza el operador `*`.\n"
      ],
      "id": "7f9d0608"
    },
    {
      "cell_type": "code",
      "metadata": {},
      "source": [
        "# Multiplicar una cadena de texto\n",
        "cadena = \"Me gusta programar en Python\\n\"\n",
        "\n",
        "multiplicacion = cadena * 5\n",
        "print(multiplicacion)"
      ],
      "id": "b2e4398a",
      "execution_count": null,
      "outputs": []
    },
    {
      "cell_type": "markdown",
      "metadata": {},
      "source": [
        "Para comparar dos cadenas de texto, simplemente se utilizan los operadores de comparación.\n"
      ],
      "id": "985fb291"
    },
    {
      "cell_type": "code",
      "metadata": {},
      "source": [
        "# Comparar dos cadenas de texto\n",
        "cadena1 = \"Muchas gracias\"\n",
        "cadena2 = \"De nada\"\n",
        "\n",
        "comparacion = cadena1 == cadena2 # Comparar si dos cadenas son iguales\n",
        "print(comparacion)\n",
        "\n",
        "comparacion = cadena1 != cadena2 # Comparar si dos cadenas son diferentes\n",
        "print(comparacion)\n",
        "\n",
        "comparacion = cadena1 > cadena2 # Comparar si una cadena tiene más caracteres que otra\n",
        "print(comparacion)\n",
        "\n",
        "comparacion = cadena1 < cadena2 # Comparar si una cadena tiene menos caracteres que otra\n",
        "print(comparacion)\n",
        "\n",
        "comparacion = cadena1 >= cadena2 # Comparar si una cadena tiene más o igual cantidad de caracteres que otra\n",
        "print(comparacion)\n",
        "\n",
        "comparacion = cadena1 <= cadena2 # Comparar si una cadena tiene menos o igual cantidad de caracteres que otra\n",
        "print(comparacion)"
      ],
      "id": "74811974",
      "execution_count": null,
      "outputs": []
    },
    {
      "cell_type": "markdown",
      "metadata": {},
      "source": [
        "### Ejercicios 1.2\n",
        "\n",
        "<h4><b> Instrucciones </b></h4>\n",
        "\n",
        "En el siguiente bloque podrán ejecutar código de Python usando su navegador web. Igualmente pueden hacerlo en su computadora o en la nube utilizando [Google Colab](https://colab.research.google.com/) o [Kaggle](https://www.kaggle.com/). Para cada ejercicio deber de escribir su propio código, crear un comentario con sus datos, crear su solución y tomar una captura de pantalla del resultado. Finalmente, subir la captura a la asignación correspondiente en Google Classroom.\n",
        "\n",
        "1. Sabiendo que el Teorema de Pitágoras es $a^2 + b^2 = c^2$, calcular la hipotenusa de un triángulo rectángulo con catetos de 3 y 4 unidades.\n",
        "\n",
        "```{pyodide-python}\n",
        "# Tu código aquí\n",
        "```\n",
        "\n",
        "2. Si la velocidad de la luz es de $299,792,458$ m/s, y el tiempo que tarda en llegar la luz del Sol a la Tierra es de $8.3$ minutos, calcular la distancia en kilómetros que hay entre el Sol y la Tierra.\n",
        "\n",
        "```{pyodide-python}\n",
        "# Tu código aquí\n",
        "```\n",
        "\n",
        "3. Crea dos variables con tu nombre y apellido, y concaténalas en una sola variable. Imprime el resultado.\n",
        "\n",
        "```{pyodide-python}\n",
        "# Tu código aquí\n",
        "```\n",
        "\n",
        "4. Crea una variable con tu canción favorita y multiplica por 4 la parte de la letra que más te gusta. Imprime el resultado.\n",
        "\n",
        "```{pyodide-python}\n",
        "# Tu código aquí\n",
        "```\n",
        "\n",
        "5. Crea una variable con tu película favorita y compara si la longitud de la cadena de texto es mayor a 10 caracteres. Imprime el resultado.\n",
        "\n",
        "```{pyodide-python}\n",
        "# Tu código aquí\n",
        "```\n",
        "\n",
        "# Conclusiones\n",
        "\n",
        "En esta lección hemos aprendido a declarar variables y a realizar operaciones con ellas en Python. Hemos visto los tipos de datos más comunes en Python y cómo realizar operaciones aritméticas, de comparación y con cadenas de texto. En la siguiente lección, aprenderemos a utilizar estructuras de control de flujo en Python para crear programas más complejos y cómo utilizar funciones para reutilizar código.\n",
        "\n",
        "¡Recuerda practicar y experimentar con los ejercicios para mejorar tus habilidades de programación en Python!\n",
        "\n",
        "Cualquier duda o comentario, no dudes en escribirme a mi [correo electrónico](mailto:cris.badillo1408@gmail.com) o escribir un comentario en la plataforma de Google Classroom."
      ],
      "id": "5c69fab7"
    }
  ],
  "metadata": {
    "kernelspec": {
      "name": "python3",
      "language": "python",
      "display_name": "Python 3 (ipykernel)"
    }
  },
  "nbformat": 4,
  "nbformat_minor": 5
}