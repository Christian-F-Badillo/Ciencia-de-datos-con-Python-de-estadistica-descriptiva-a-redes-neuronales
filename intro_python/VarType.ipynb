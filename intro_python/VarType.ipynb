{
  "cells": [
    {
      "cell_type": "raw",
      "metadata": {},
      "source": [
        "---\n",
        "title: \"Variables y Tipos de Datos en Python\"\n",
        "author: \"Christian Badillo\"\n",
        "format: html\n",
        "date: today\n",
        "order: 2\n",
        "filters:\n",
        "  - pyodide\n",
        "  - fontawesome\n",
        "  - iconify\n",
        "---"
      ],
      "id": "5190ef93"
    },
    {
      "cell_type": "markdown",
      "metadata": {},
      "source": [
        "# Variables y tipos de variables\n",
        "\n",
        "En Python utilizamos variables para almacenar información en la memoria de la computadora. Las variables son como cajas en las que podemos guardar información. Cada caja tiene un nombre y un contenido. Existen reglas para nombrar las variables en Python:\n",
        "\n",
        "- El nombre de una variable debe comenzar con una letra o un guión bajo.\n",
        "- El nombre de una variable no puede comenzar con un número.\n",
        "- El nombre de una variable puede contener letras, números y guiones bajos.\n",
        "\n",
        "En Python, las variables son sensibles a mayúsculas y minúsculas. Esto significa que las variables `nombre`, `Nombre` y `NOMBRE` son diferentes. Veamos un ejemplo:\n",
        "\n",
        "```{pyodide}\n"
      ],
      "id": "302351dd"
    }
  ],
  "metadata": {
    "kernelspec": {
      "name": "python3",
      "language": "python",
      "display_name": "Python 3 (ipykernel)"
    }
  },
  "nbformat": 4,
  "nbformat_minor": 5
}