{
  "cells": [
    {
      "cell_type": "raw",
      "metadata": {},
      "source": [
        "---\n",
        "title: \"Introducción a Estadística Bayesiana\"\n",
        "author: \"Christian Badillo\"\n",
        "format: html\n",
        "date: today\n",
        "order: 5\n",
        "---"
      ],
      "id": "2a1e294b"
    },
    {
      "cell_type": "markdown",
      "metadata": {},
      "source": [
        "Existen dos enfoques principales en estadística: el enfoque frecuentista y el enfoque bayesiano. En este documento, se presentará una introducción a la estadística bayesiana.\n",
        "\n",
        "La filosofía de la estadística bayesiana es diferente a la de la estadística frecuentista. En la estadística bayesiana, se considera que la incertidumbre en los parámetros de un modelo se puede representar mediante una distribución de probabilidad. Por otro lado, en la estadística frecuentista, los parámetros son considerados como valores fijos y la incertidumbre se representa mediante intervalos de confianza, que son estimaciones de la variabilidad de los parámetros dada la muestra.\n",
        "\n",
        "En la estadística bayesiana, se considera que los parámetros de un modelo son variables aleatorias y se les asigna una **distribución de probabilidad a priori**. Esta distribución de probabilidad a priori representa el conocimiento previo que se tiene sobre los parámetros antes de observar los datos. Luego, se actualiza esta distribución de probabilidad a priori con los datos observados para obtener la **distribución de probabilidad a posteriori**, que representa el conocimiento actualizado sobre los parámetros después de observar los datos.\n",
        "\n",
        "Para lograr esta actualización utilizamos el Teorema de Bayes, que establece la relación entre la distribución de probabilidad a priori y la distribución de probabilidad a posteriori. El Teorema de Bayes se define de la siguiente manera:\n",
        "\n",
        "$$ P(\\theta|X) = \\frac{L(X|\\theta)P(\\theta)}{P(X)} $$\n",
        "\n",
        "Donde:\n",
        "\n",
        "- $P(\\theta|X)$ es la distribución de probabilidad a posteriori de los parámetros $\\theta$ dado los datos $X$.\n",
        "- $L(X|\\theta)$ es la función de verosimilitud, que representa la verosimilitud de observar los datos $X$ dado los parámetros $\\theta$.\n",
        "- $P(\\theta)$ es la distribución de probabilidad a priori de los parámetros $\\theta$.\n",
        "\n",
        "La distribución de probabilidad a posteriori se obtiene multiplicando la función de verosimilitud por la distribución de probabilidad a priori y normalizando el resultado. La distribución de probabilidad a posteriori es la distribución de probabilidad de los parámetros $\\theta$ dado los datos $X$ y se utiliza para realizar inferencias sobre los parámetros del modelo. \n",
        "\n",
        "## Estimación de un Parámetro\n",
        "\n",
        "Supongamos que lanzamos una moneda varias veces para poder estimar si la moneda tiene truco o esta sesgada. Para poder estimar este parámetro, podemos utilizar la estadística bayesiana. Para ello deberemos seguir los siguientes pasos:\n",
        "\n",
        "### Paso 1: Definir el Modelo de los Datos\n",
        "\n",
        "Lo primero es encontrar un modelo que describa los datos o en otros términos, encontrar una distribución de probabilidad que describa la probabilidad de obtener una cara o una cruz. En este caso, podemos utilizar una distribución de Bernoulli para modelar la probabilidad de obtener una cara o una cruz en un lanzamiento de moneda. La distribución de Bernoulli se define de la siguiente manera:\n",
        "\n",
        "$$ L(X|\\theta) = \\theta^x(1-\\theta)^{1-x} $$\n",
        "\n",
        "Donde:\n",
        "\n",
        "- $X$ es la variable aleatoria que representa el resultado del lanzamiento de la moneda (0 si es cruz y 1 si es cara).\n",
        "- $\\theta$ es el parámetro de la distribución de Bernoulli que representa la probabilidad de obtener una cara en un lanzamiento de moneda.\n",
        "\n",
        "El problema es que solo sirve para un lanzamiento en particular y nuestros datos son el resultado de varios lanzamientos. Para poder modelar los datos de varios lanzamientos, podemos utilizar una distribución de Bernoulli generalizada, que se conoce como distribución de Binomial. La distribución de Binomial se define de la siguiente manera:\n",
        "\n",
        "$$ L(X|\\theta) = \\binom{n}{x}\\theta^x(1-\\theta)^{n-x} $$\n",
        "\n",
        "Donde $n$ es el número de lanzamientos de la moneda y $x$ es el número de caras obtenidas en los $n$ lanzamientos. Esta distribución representa la probabilidad de obtener $x$ caras en $n$ lanzamientos de una moneda con probabilidad $\\theta$ de obtener una cara, ***pero aquí $\\theta$ es una variable desconocida que queremos estimar y por tanto no representa una distribución de probabilidad***. Será nuestro modelo de los datos o lo que llamamos anteriormente como la **función de verosimilitud**.\n",
        "\n",
        "Vamos a simular datos de un lanzamiento de moneda con $\\theta = 0.65$ y $n = 40$.\n"
      ],
      "id": "27a95067"
    },
    {
      "cell_type": "code",
      "metadata": {},
      "source": [
        "import numpy as np\n",
        "import matplotlib.pyplot as plt\n",
        "\n",
        "np.random.seed(101408)\n",
        "datos = np.random.choice([0, 1], size=40, p=[0.35, 0.65])\n",
        "\n",
        "plt.bar([0, 1], [sum(datos == 0), sum(datos == 1)], color=['red', 'blue'])\n",
        "plt.xticks([0, 1], ['Cruz', 'Cara'], fontsize=12)\n",
        "plt.ylabel('Frecuencia', fontsize=12)\n",
        "plt.title('Resultados de 40 lanzamientos de moneda', fontsize=14, fontweight='bold')\n",
        "plt.show()"
      ],
      "id": "91196bf5",
      "execution_count": null,
      "outputs": []
    },
    {
      "cell_type": "markdown",
      "metadata": {},
      "source": [
        "Ahora vamos a ver como luce la función de verosimilitud para distintos valores de $\\theta$.\n"
      ],
      "id": "ea67dd5d"
    },
    {
      "cell_type": "code",
      "metadata": {},
      "source": [
        "from scipy.stats import binom\n",
        "\n",
        "theta = np.linspace(0, 1, 1000)\n",
        "\n",
        "plt.plot(theta, binom.pmf(sum(datos == 1), 40, theta), color='blue')\n",
        "plt.xlabel(r'$\\theta$', fontsize=15)\n",
        "plt.ylabel(r'$L(X|\\theta)$', fontsize=15)\n",
        "plt.title('Función de Verosimilitud', fontsize=20, fontweight='bold')\n",
        "plt.show()"
      ],
      "id": "eb2b9bc2",
      "execution_count": null,
      "outputs": []
    },
    {
      "cell_type": "markdown",
      "metadata": {},
      "source": [
        "## Paso 2: Definir la Distribución de Probabilidad a Priori\n",
        "\n",
        "El siguiente paso es definir una distribución de probabilidad a priori para el parámetro $\\theta$. La distribución de probabilidad a priori representa el conocimiento previo que se tiene sobre el parámetro $\\theta$ antes de observar los datos. \n",
        "\n",
        "Existen dos tipos de distribuciones de probabilidad a priori: distribuciones de probabilidad a priori **informativas** y distribuciones de probabilidad a priori **no informativas**. Las distribuciones de probabilidad a priori informativas se utilizan cuando se tiene información previa sobre el parámetro $\\theta$ y se desea incorporar esta información en el análisis. Por otro lado, las distribuciones de probabilidad a priori no informativas se utilizan cuando no se tiene información previa sobre el parámetro $\\theta$ y se desea dejar que los datos guíen la inferencia.\n",
        "\n",
        "Debemos de pensar primeramente para que rangos nuestro parámetro $\\theta$ puede variar. En este caso, como $\\theta$ es una probabilidad, debe de estar en el rango $[0, 1]$. Una distribución de probabilidad a priori común para el parámetro $\\theta$ es la distribución Beta, que se define de la siguiente manera:\n",
        "\n",
        "$$ P(\\theta) = \\frac{\\theta^{\\alpha-1}(1-\\theta)^{\\beta-1}}{B(\\alpha, \\beta)} $$\n",
        "\n",
        "Donde:\n",
        "\n",
        "- $\\alpha$ y $\\beta$ son los parámetros de la distribución Beta.\n",
        "- $B(\\alpha, \\beta)$ es la función Beta, que es una constante de normalización.\n",
        "\n",
        "La función Beta se ve de la siguiente manera:\n",
        "\n",
        "$$ B(\\alpha, \\beta) = \\int_0^1 \\theta^{\\alpha-1}(1-\\theta)^{\\beta-1}d\\theta $$\n",
        "\n",
        "\n",
        "Veamos como se ve para distintos valores de $\\alpha$ y $\\beta$.\n"
      ],
      "id": "07e6d7bf"
    },
    {
      "cell_type": "code",
      "metadata": {},
      "source": [
        "from scipy.stats import beta\n",
        "\n",
        "theta = np.linspace(0.1, 0.99, 1000)\n",
        "alphas = [0.5, 1, 2]\n",
        "betas = [0.5, 1, 2]\n",
        "\n",
        "plt.figure(figsize=(10, 6))\n",
        "\n",
        "for a in alphas:\n",
        "    for b in betas:\n",
        "        plt.plot(theta, beta.pdf(theta, a, b), label=f'$\\\\alpha={a}, \\\\beta={b}$', alpha=0.7, lw=2)\n",
        "\n",
        "plt.xlabel(r'$\\theta$', fontsize=15)\n",
        "plt.ylabel(r'$P(\\theta)$', fontsize=15)\n",
        "plt.title('Distribución de Probabilidad a Priori', fontsize=20, fontweight='bold')\n",
        "plt.legend()\n",
        "plt.show()"
      ],
      "id": "33455ee6",
      "execution_count": null,
      "outputs": []
    },
    {
      "cell_type": "markdown",
      "metadata": {},
      "source": [
        "Las formas de la distribución de probabilidad a priori dependen de los valores de los parámetros $\\alpha$ y $\\beta$. Por ejemplo, si $\\alpha = \\beta = 1$, la distribución de probabilidad a priori es uniforme en el intervalo $[0, 1]$. Si $\\alpha = \\beta = 0.5$, la distribución de probabilidad a priori es una distribución de probabilidad a priori no informativa. Si $\\alpha > \\beta$, la distribución de probabilidad a priori se concentra en valores cercanos a 1. Si $\\alpha < \\beta$, la distribución de probabilidad a priori se concentra en valores cercanos a 0.\n",
        "\n",
        "Usemos valores de $\\alpha = 1$ y $\\beta = 1$ para nuestra distribución de probabilidad a priori.\n",
        "\n",
        "## Paso 3: Calcular la Distribución de Probabilidad a Posteriori\n",
        "\n",
        "El siguiente paso es calcular la distribución de probabilidad a posteriori de los parámetros $\\theta$ dado los datos $X$. Para ello, utilizamos el Teorema de Bayes.\n",
        "\n",
        "\\begin{equation}\n",
        "P(\\theta|X) = \\frac{L(X|\\theta)P(\\theta)}{P(X)} = \\frac{L(X|\\theta)P(\\theta)}{\\int L(X|\\theta)P(\\theta)d\\theta}\n",
        "\\end{equation}\n",
        "\n",
        "Vamos a reemplazar la función de verosimilitud y la distribución de probabilidad a priori en la ecuación anterior.\n",
        "\n",
        "\\begin{align}\n",
        "P(\\theta|X) & = \\frac{\\binom{n}{x}\\theta^x(1-\\theta)^{n-x}\\frac{\\theta^{\\alpha-1}(1-\\theta)^{\\beta-1}}{B(\\alpha, \\beta)}}{\\int \\binom{n}{x}\\theta^x(1-\\theta)^{n-x}\\frac{\\theta^{\\alpha-1}(1-\\theta)^{\\beta-1}}{B(\\alpha, \\beta)}d\\theta} \\\\\n",
        "& = \\frac{\\theta^{x+\\alpha-1}(1-\\theta)^{n-x+\\beta-1}}{\\int \\theta^{x+\\alpha-1}(1-\\theta)^{n-x+\\beta-1}d\\theta}\n",
        "\\end{align}\n",
        "\n",
        "Si recordamos la forma de la distribución Beta podemos ver que son muy similares y de hecho la distribución de probabilidad a posteriori es una distribución Beta con parámetros $\\alpha' = x+\\alpha$ y $\\beta' = n-x+\\beta$. Bravo!!!! Ya tenemos nuestra distribución de probabilidad a posteriori y sin realizar ninguna integral complicada.\n",
        "\n",
        "$$ P(\\theta|X) = \\frac{\\theta^{x+\\alpha-1}(1-\\theta)^{n-x+\\beta-1}}{B(x+\\alpha, n-x+\\beta)} $$\n",
        "\n",
        "$$ P(\\theta|X) \\sim Beta(x+\\alpha, n-x+\\beta) $$\n",
        "\n",
        "Vamos a calcular la distribución de probabilidad a posteriori para los datos simulados.\n"
      ],
      "id": "9ee0966f"
    },
    {
      "cell_type": "code",
      "metadata": {},
      "source": [
        "from scipy.stats import beta\n",
        "\n",
        "alpha_prior = 1\n",
        "beta_prior = 1\n",
        "\n",
        "posterior = beta.pdf(theta, sum(datos == 1) + alpha_prior, 40 - sum(datos == 1) + beta_prior)\n",
        "\n",
        "plt.plot(theta, posterior, color='green')\n",
        "plt.xlabel(r'$\\theta$', fontsize=15)\n",
        "plt.ylabel(r'$P(\\theta|X)$', fontsize=15)\n",
        "\n",
        "plt.title('Distribución de Probabilidad a Posteriori', fontsize=20, fontweight='bold')\n",
        "plt.show()"
      ],
      "id": "c1caff98",
      "execution_count": null,
      "outputs": []
    },
    {
      "cell_type": "markdown",
      "metadata": {},
      "source": [
        "Juntemos todo en un solo gráfico.\n"
      ],
      "id": "5f413e20"
    },
    {
      "cell_type": "code",
      "metadata": {},
      "source": [
        "plt.figure(figsize=(10, 6))\n",
        "\n",
        "plt.plot(theta, binom.pmf(sum(datos == 1), 40, theta), color='blue', label='Verosimilitud')\n",
        "plt.plot(theta, beta.pdf(theta, alpha_prior, beta_prior), color='red', label='Priori')\n",
        "plt.plot(theta, posterior*0.185, color='green', label='Posteriori')\n",
        "\n",
        "plt.xlabel(r'$\\theta$', fontsize=15)\n",
        "plt.ylabel(r'$P(\\theta)$', fontsize=15)\n",
        "plt.title('Distribuciones de Probabilidad', fontsize=20, fontweight='bold')\n",
        "\n",
        "plt.legend()\n",
        "plt.show()"
      ],
      "id": "50969257",
      "execution_count": null,
      "outputs": []
    },
    {
      "cell_type": "markdown",
      "metadata": {},
      "source": [
        "Solamente escalamos la distribución a posteriori por fines de visualización. La distribución de probabilidad a posteriori es una combinación de la distribución de probabilidad a priori y la función de verosimilitud. La distribución de probabilidad a posteriori se concentra en valores de $\\theta$ que son consistentes con los datos observados y las creencias previas sobre el parámetro $\\theta$.\n",
        "\n",
        "En este ejemplo hemos hecho uso de lo que se conocen como **priors conjugados**, que son aquellos que al multiplicar la función de verosimilitud por la distribución de probabilidad a priori, obtenemos una distribución de probabilidad a posteriori de la misma familia que la distribución de probabilidad a priori. En este caso, la distribución Beta es un prior conjugado para la distribución de Bernoulli o Binomial conocido como ***Modelo Beta-Binomial***. Algunos priors conjugados son:\n",
        "\n",
        "| Distribución de Probabilidad | Prior Conjugado | Posterior Conjugado |\n",
        "|------------------------------|-----------------|---------------------|\n",
        "| Bernoulli                    | Beta            | Beta                |\n",
        "| Binomial                     | Beta            | Beta                |\n",
        "| Poisson                      | Gamma           | Gamma               |\n",
        "| Normal                       | Normal          | Normal              |\n",
        "\n",
        "## Paso 4: Resumir la Distribución de Probabilidad a Posteriori\n",
        "\n",
        "Una vez que hemos calculado la distribución de probabilidad a posteriori de los parámetros $\\theta$ dado los datos $X$, podemos realizar inferencias sobre los parámetros del modelo. Por ejemplo, podemos calcular la media, la mediana, la moda y los intervalos de credibilidad de la distribución de probabilidad a posteriori.\n"
      ],
      "id": "1bea2574"
    },
    {
      "cell_type": "code",
      "metadata": {},
      "source": [
        "from scipy.stats import beta\n",
        "\n",
        "media_posterior = beta.mean(sum(datos == 1) + alpha_prior, 40 - sum(datos == 1) + beta_prior)\n",
        "mediana_posterior = beta.median(sum(datos == 1) + alpha_prior, 40 - sum(datos == 1) + beta_prior)\n",
        "moda_posterior = (sum(datos == 1) + alpha_prior - 1) / (40 + alpha_prior + beta_prior - 2)\n",
        "\n",
        "credibilidad_95 = beta.interval(0.95, sum(datos == 1) + alpha_prior, 40 - sum(datos == 1) + beta_prior)\n",
        "\n",
        "print(f'Media de la distribución de probabilidad a posteriori: {media_posterior:.2f}')\n",
        "print(f'Mediana de la distribución de probabilidad a posteriori: {mediana_posterior:.2f}')\n",
        "print(f'Moda de la distribución de probabilidad a posteriori: {moda_posterior:.2f}')\n",
        "print(f'Intervalo de credibilidad al 95%: {credibilidad_95}')"
      ],
      "id": "540ff8cc",
      "execution_count": null,
      "outputs": []
    },
    {
      "cell_type": "markdown",
      "metadata": {},
      "source": [
        "Gráfiquemos la distribución de probabilidad a posteriori con la media y los intervalos de credibilidad.\n"
      ],
      "id": "bd3eced0"
    },
    {
      "cell_type": "code",
      "metadata": {},
      "source": [
        "plt.plot(theta, posterior, color='green')\n",
        "plt.axvline(media_posterior, color='red', linestyle='--', label='Media')\n",
        "plt.fill_between(theta, 0, posterior, \n",
        "                where=(theta >= credibilidad_95[0]) & (theta <= credibilidad_95[1]), \n",
        "                color='green', alpha=0.25, \n",
        "                label='Intervalo de Credibilidad al 95%')\n",
        "\n",
        "plt.annotate(f'Mean: {media_posterior:.2f}', (media_posterior, 0), \n",
        "            textcoords='offset points', xytext=(0, 10), \n",
        "            ha='center', fontsize=12, color='black')\n",
        "\n",
        "plt.xlabel(r'$\\theta$', fontsize=15)\n",
        "plt.ylabel(r'$P(\\theta|X)$', fontsize=15)\n",
        "plt.title('Distribución de Probabilidad a Posteriori', fontsize=20, fontweight='bold')\n",
        "\n",
        "plt.legend()\n",
        "plt.show()"
      ],
      "id": "39d10a5d",
      "execution_count": null,
      "outputs": []
    },
    {
      "cell_type": "markdown",
      "metadata": {},
      "source": [
        "Estos estadísticos son los que se reportan en la estadística bayesiana para resumir la distribución de probabilidad a posteriori y realizar inferencias sobre los parámetros del modelo. La media de la distribución de probabilidad a posteriori es un estimador puntual del parámetro $\\theta$ y representa el valor esperado de $\\theta$ dado los datos observados. La mediana de la distribución de probabilidad a posteriori es el valor que divide la distribución en dos partes iguales y representa el valor más probable de $\\theta$ dado los datos observados. La moda de la distribución de probabilidad a posteriori es el valor que tiene la mayor densidad de probabilidad y representa el valor más probable de $\\theta$ dado los datos observados. Los intervalos de credibilidad son intervalos que contienen un cierto porcentaje de la distribución de probabilidad a posteriori y representan la incertidumbre en la estimación de $\\theta$ dado los datos observados.\n",
        "\n",
        "# Algoritmos MCMC\n",
        "\n",
        "En la práctica, calcular la distribución de probabilidad a posteriori de los parámetros $\\theta$ dado los datos $X$ puede ser complicado, especialmente cuando el modelo es complejo y no se puede obtener una solución analítica. En estos casos, se utilizan algoritmos de muestreo de Markov Chain Monte Carlo (MCMC) para aproximar la distribución de probabilidad a posteriori.\n",
        "\n",
        "Vamos a despedazar el nombre del algoritmo:\n",
        "\n",
        "- **Markov Chain**: Es un proceso estocástico en el que la probabilidad de pasar de un estado a otro depende solo del estado actual y no de los estados anteriores. En el contexto de MCMC, la cadena de Markov es una secuencia de muestras de los parámetros $\\theta$ que se generan de acuerdo con la distribución de probabilidad a posteriori.\n",
        "- **Monte Carlo**: Es un método de simulación que se utiliza para aproximar la distribución de probabilidad a posteriori mediante la generación de muestras aleatorias de los parámetros $\\theta$.\n",
        "\n",
        "### Cadenas de Markov\n",
        "\n",
        "Una cadena de Markov es una secuencia de variables aleatorias $X_1, X_2, ..., X_n$ que satisfacen la propiedad de Markov. La propiedad de Markov establece que la probabilidad de que la variable aleatoria $X_{n+1}$ tome un valor dado depende solo del valor actual de la variable aleatoria $X_n$ y no de los valores anteriores de la variable aleatoria $X_1, X_2, ..., X_{n-1}$. En otras palabras, la probabilidad de transición de un estado a otro depende solo del estado actual y no de los estados anteriores.\n",
        "\n",
        "Normalmente se representan las cadenas de Markov mediante una matriz de transición $P$, que es una matriz cuadrada cuyas filas y columnas representan los estados de la cadena de Markov y cuyos elementos representan las probabilidades de transición de un estado a otro. \n",
        "\n",
        "Veamos un ejemplo de una cadena de Markov con dos estados.\n"
      ],
      "id": "0ee846c5"
    },
    {
      "cell_type": "code",
      "metadata": {},
      "source": [
        "import numpy as np\n",
        "\n",
        "np.random.seed(101408)\n",
        "\n",
        "# Matriz de transición\n",
        "P = np.array([[0.6, 0.4], [0.3, 0.7]])\n",
        "\n",
        "# Estado inicial\n",
        "estado = 0\n",
        "\n",
        "# Número de pasos\n",
        "n = 10\n",
        "\n",
        "# Generar la cadena de Markov\n",
        "cadena = [estado]\n",
        "\n",
        "for i in range(n):\n",
        "    estado = np.random.choice([0, 1], p=P[estado])\n",
        "    cadena.append(estado)\n",
        "\n",
        "cadena"
      ],
      "id": "ae037900",
      "execution_count": null,
      "outputs": []
    },
    {
      "cell_type": "markdown",
      "metadata": {},
      "source": [
        "En este ejemplo, la cadena de Markov tiene dos estados (0 y 1) y la matriz de transición $P$ es una matriz de $2 \\times 2$ cuyos elementos representan las probabilidades de transición de un estado a otro. El estado inicial de la cadena de Markov es 0 y se generan 10 pasos de la cadena de Markov. La cadena de Markov es una secuencia de estados que se generan de acuerdo con la matriz de transición $P$.\n",
        "\n",
        "Si multiplicamos $n$ veces la matriz de transición $P$ por el vector de estado inicial, obtendremos la distribución de probabilidad de los estados de la cadena de Markov después de $n$ pasos.\n"
      ],
      "id": "1aa356f9"
    },
    {
      "cell_type": "code",
      "metadata": {},
      "source": [
        "estado_inicial = np.array([1, 0])\n",
        "\n",
        "for i in range(n):\n",
        "    estado_inicial = np.dot(estado_inicial, P)\n",
        "\n",
        "estado_inicial"
      ],
      "id": "95795f66",
      "execution_count": null,
      "outputs": []
    },
    {
      "cell_type": "markdown",
      "metadata": {},
      "source": [
        "Aquí se imprime la probabilidad de estar en el estado 0 y en el estado 1 después de 10 pasos de la cadena de Markov. La probabilidad de estar en el estado 0 es 0.428 y la probabilidad de estar en el estado 1 es 0.572.\n",
        "\n",
        "En el caso de los algorithmos MCMC, la matriz de transición $P$ es una matriz de transición de la cadena de Markov que se utiliza para generar muestras de los parámetros $\\theta$ de acuerdo con el producto de la función de verosimilitud y la distribución de probabilidad a priori.\n",
        "\n",
        "### Monte Carlo\n",
        "\n",
        "El método de Monte Carlo es un método de simulación que se utiliza para aproximar la distribución de probabilidad a posteriori mediante la generación de muestras aleatorias de los parámetros $\\theta$. El método de Monte Carlo se basa en el principio de que si se generan suficientes muestras aleatorias de los parámetros $\\theta$ de acuerdo con la distribución de probabilidad a posteriori, se puede aproximar la distribución de probabilidad a posteriori y realizar inferencias sobre los parámetros del modelo.\n",
        "\n",
        "Un ejemplo clásico de Monte Carlo es calcular el área de un círculo mediante la generación de puntos aleatorios dentro de un cuadrado que contiene el círculo y contando el número de puntos que caen dentro del círculo. La proporción de puntos que caen dentro del círculo con respecto al total de puntos generados es una aproximación del área del círculo.\n"
      ],
      "id": "690b69ad"
    },
    {
      "cell_type": "code",
      "metadata": {},
      "source": [
        "import numpy as np\n",
        "import matplotlib.pyplot as plt\n",
        "\n",
        "np.random.seed(20011408)\n",
        "\n",
        "n = 2500\n",
        "x = np.random.uniform(-1, 1, n)\n",
        "y = np.random.uniform(-1, 1, n)\n",
        "\n",
        "def dentro_circulo(x, y):\n",
        "    return x**2 + y**2 <= 1\n",
        "\n",
        "plt.figure(figsize=(6, 6))\n",
        "plt.scatter(x, y, c=dentro_circulo(x, y), cmap='coolwarm', s=10)\n",
        "plt.title('Puntos Aleatorios en un Círculo', fontsize=20, fontweight='bold')\n",
        "plt.axis('equal')\n",
        "plt.show()\n",
        "\n",
        "area_circulo = sum(dentro_circulo(x, y)) / n * 4\n",
        "area_circulo"
      ],
      "id": "9467b78e",
      "execution_count": null,
      "outputs": []
    },
    {
      "cell_type": "markdown",
      "metadata": {},
      "source": [
        "En este ejemplo, se generan 2500 puntos aleatorios dentro de un cuadrado que contiene un círculo de radio 1. Se cuentan el número de puntos que caen dentro del círculo y se calcula la proporción de puntos que caen dentro del círculo con respecto al total de puntos generados. La proporción de puntos que caen dentro del círculo es una aproximación del área del círculo y se multiplica por 4 para obtener el área del círculo.\n",
        "\n",
        "Los métodos Monte Carlo siguen un patrón en la resolución de problemas:\n",
        "\n",
        "1. Definir un conjunto posible de valores.\n",
        "2. Generar valores aleatorios de acuerdo a una distribución de probabilidad.\n",
        "3. Realizar un computo con los valores generados.\n",
        "4. Repetir los pasos 2 y 3 un número suficiente de veces.\n",
        "\n",
        "### Algoritmo Hastings-Metropolis\n",
        "\n",
        "El algoritmo de Metropolis-Hastings es un algoritmo de muestreo de Markov Chain Monte Carlo (MCMC) que se utiliza para aproximar la distribución de probabilidad a posteriori de los parámetros $\\theta$ dado los datos $X$. El algoritmo de Metropolis-Hastings se basa en la generación de muestras de los parámetros $\\theta$ de acuerdo con la distribución de probabilidad a posteriori mediante la aceptación o rechazo de las muestras generadas.\n",
        "\n",
        "Veamos como funciona este algoritmo con un ejemplo sencillo. Supongamos que somos politicos y queremos que la mayoria de personas voten por nosotros. Supongamos que hay 7 estados, nuestro objetivo es visitar cada uno dependiendo de la población de cada estado. La probabilidad de visitar cada estado es proporcional a la población de cada estado. Supongamos que la población de cada estado es la siguiente:\n"
      ],
      "id": "46f73249"
    },
    {
      "cell_type": "code",
      "metadata": {},
      "source": [
        "import numpy as np\n",
        "import matplotlib.pyplot as plt\n",
        "\n",
        "poblacion = np.array([100, 200, 300, 400, 500, 600, 700])\n",
        "\n",
        "proporcion = poblacion / sum(poblacion)\n",
        "\n",
        "plt.bar(range(1, 8), proporcion, color='blue')\n",
        "plt.xlabel('Estado', fontsize=15)\n",
        "plt.ylabel('Proporción', fontsize=15)\n",
        "plt.title('Proporción de Población por Estado', fontsize=20, fontweight='bold')\n",
        "plt.show()"
      ],
      "id": "6693d6fa",
      "execution_count": null,
      "outputs": []
    },
    {
      "cell_type": "markdown",
      "metadata": {},
      "source": [
        "En este ejemplo, la población de cada estado es proporcional a la probabilidad de visitar cada estado. El objetivo es visitar cada estado de acuerdo con la proporción de la población de cada estado.\n",
        "\n",
        "Definamos una regla para visitar cada estado. La regla es la siguiente:\n",
        "\n",
        "1. Elegir el primer estado a visitar de forma aleatoria.\n",
        "2. Pomos cambiarnos a cualquier estado aledaño.\n",
        "3. Para saber a que estado aledaño cambiarnos lanzamos una moneda y si cae cara consideramos el estado aledaño, si cae cruz consideramos el otro estado.\n",
        "4. Si la proporción de la población del estado considerado es mayor que la proporción de la población del estado actual, nos cambiamos al estado considerado. En caso contrario, giramos una ruleta y si cae en un número menor a la proporción de la población del estado considerado, nos cambiamos al estado considerado, sino nos quedamos en el estado actual.\n",
        "\n",
        "Veamos como se ve este algoritmo.\n"
      ],
      "id": "b1cfe58e"
    },
    {
      "cell_type": "code",
      "metadata": {},
      "source": [
        "np.random.seed(20011408)\n",
        "\n",
        "n = 1000\n",
        "estados = np.zeros(n, dtype=int)\n",
        "estados[0] = np.random.choice(range(7))\n",
        "\n",
        "hab_act = poblacion[estados[0]]\n",
        "pos_act = estados[0]\n",
        "\n",
        "for i in range(1, n):\n",
        "    next_pos = pos_act + np.random.choice([-1, 1], p=[0.5, 0.5])\n",
        "    if next_pos > -1 and next_pos < 7:\n",
        "        hab_sig = poblacion[next_pos]\n",
        "        if hab_sig > hab_act:\n",
        "            estados[i] = next_pos\n",
        "            hab_act = hab_sig\n",
        "            pos_act = next_pos\n",
        "        else:\n",
        "            if np.random.rand() < hab_sig / hab_act:\n",
        "                estados[i] = next_pos\n",
        "                hab_act = hab_sig\n",
        "                pos_act = next_pos\n",
        "            else:\n",
        "                estados[i] = pos_act\n",
        "    else:\n",
        "        estados[i] = pos_act\n",
        "\n",
        "# Plor estados en eje x y la iteración en el eje y\n",
        "f, ax = plt.subplots(figsize=(10, 6))\n",
        "ax.plot(estados, color='blue', ls='-', lw=1)\n",
        "\n",
        "plt.xlabel('Iteración', fontsize=15)\n",
        "plt.ylabel('Estado', fontsize=15)\n",
        "plt.title('Cadena de Markov', fontsize=20, fontweight='bold')\n",
        "plt.show()"
      ],
      "id": "68603155",
      "execution_count": null,
      "outputs": []
    },
    {
      "cell_type": "markdown",
      "metadata": {},
      "source": [
        "Vamos a crear un histograma de la densidad de visitas por estado y la verdadera proporción de la población de cada estado.\n"
      ],
      "id": "72b18882"
    },
    {
      "cell_type": "code",
      "metadata": {},
      "source": [
        "plt.bar(range(0, 7), proporcion, color='red', alpha=0.25)\n",
        "plt.hist(estados, bins=7, color='blue', edgecolor='black', density=True, alpha=0.4)\n",
        "plt.xlabel('Estado', fontsize=15)\n",
        "plt.ylabel('Densidad', fontsize=15)\n",
        "plt.title('Frecuencia de Visitas por Estado', fontsize=20, fontweight='bold')\n",
        "plt.show()"
      ],
      "id": "6c078dcd",
      "execution_count": null,
      "outputs": []
    },
    {
      "cell_type": "markdown",
      "metadata": {},
      "source": [
        "Como vemos la cadena de Markov se ajusta a la proporción de la población de cada estado. Este es un ejemplo sencillo de como funciona el algoritmo de Metropolis-Hastings.\n",
        "\n",
        "En general lo que hace el algoritmo de Metropolis-Hasting es lo siguiente:\n",
        "\n",
        "1. Inicializar el parámetro $\\theta$ con un valor inicial.\n",
        "2. Generar un valor propuesto $\\theta'$ de acuerdo a una distribución de probabilidad de propuesta.\n",
        "3. Calcular la razón de aceptación $r = \\frac{P(\\theta'|X)}{P(\\theta|X)}$.\n",
        "4. Generar un número aleatorio $u$ de una distribución uniforme en el intervalo $[0, 1]$.\n",
        "5. Si $u < r$, aceptar el valor propuesto $\\theta'$ y actualizar el parámetro $\\theta$ con el valor propuesto $\\theta'$.\n",
        "6. Si $u \\geq r$, rechazar el valor propuesto $\\theta'$ y mantener el parámetro $\\theta$ con el valor actual.\n",
        "7. Repetir los pasos 2-6 un número suficiente de veces para generar muestras de los parámetros $\\theta$ de acuerdo con la distribución de probabilidad a posteriori.\n",
        "\n",
        "La *distribución propuesta* generalmente es una distribución normal con media en el valor actual del parámetro $\\theta$ y una desviación estándar que se ajusta para que la proporción de aceptación sea cercana al 0.5, pero se prefiere el uso de distribuciones no simricas alrededor del valor actual del parámetro $\\theta$.\n",
        "\n",
        "Para calcular la razón, se usa el producto de la función de verosimilitud, la distribución a priori y la probabilidad de la distribución propuesta. La probabilidad de la distribución propuesta se cancela en el cálculo de la razón de aceptación si es simétrica.\n",
        "\n",
        "$$ r = \\frac{P(X|\\theta')P(\\theta')}{P(X|\\theta)P(\\theta)} $$\n",
        "\n",
        "Una implementación sencilla del algoritmo de Metropolis-Hastings se encuentra [aquí](https://drive.google.com/file/d/1pL5qiH-Cn-TOzQQh5IO6pbZB-C3g4bcC/view?usp=sharing)\n",
        "\n",
        "\n",
        "# Software para Estadística Bayesiana\n",
        "\n",
        "Existen varios paquetes de software que se utilizan para realizar análisis estadísticos bayesianos que implementan algoritmos MCMC para aproximar la distribución de probabilidad a posteriori de los parámetros $\\theta$ dado los datos $X. Algunos de los paquetes de software más populares para realizar análisis estadísticos bayesianos son:\n",
        "\n",
        "- **Stan**\n",
        "- **PyMC3**\n",
        "- **JAGS**\n",
        "\n",
        "Estos paquetes de software proporcionan una interfaz de programación para especificar modelos estadísticos bayesianos y realizar inferencias sobre los parámetros del modelo utilizando algoritmos MCMC. Los paquetes de software también proporcionan herramientas para visualizar los resultados del análisis estadístico bayesiano y realizar diagnósticos de los algoritmos MCMC.\n",
        "\n",
        "## Stan\n",
        "\n",
        "Stan es el lenguaje probabilístico más popular para realizar análisis estadísticos bayesianos, con el uso de algoritmos MCMC. Stan proporciona una interfaz de programación en C++, Python y R para especificar modelos estadísticos bayesianos y realizar inferencias sobre los parámetros del modelo.\n",
        "\n",
        "Para usarlo en python, se puede instalar con el siguiente comando:\n",
        "\n",
        "```bash\n",
        "pip install pystan\n",
        "```\n",
        "\n",
        "Pero solo funciona para sistemas operativos Unix (Linux, MacOS) y no para Windows. Se puede utilziar en google colab o en un servidor de jupyter notebook en un sistema operativo Unix.\n",
        "\n",
        "Veamos como realizar una regresión lineal bayesiana con Stan.\n"
      ],
      "id": "605e104c"
    },
    {
      "cell_type": "code",
      "metadata": {},
      "source": [
        "import numpy as np\n",
        "import matplotlib.pyplot as plt\n",
        "import stan\n",
        "\n",
        "np.random.seed(20011408)\n",
        "\n",
        "# Generar datos\n",
        "n = 100\n",
        "x = np.random.normal(100, 25, n)\n",
        "\n",
        "# Coeficientes\n",
        "beta_0 = 5\n",
        "beta_1 = 2\n",
        "\n",
        "# Generar datos\n",
        "y = beta_0 + beta_1 * x + np.random.normal(0, 40, n)\n",
        "\n",
        "plt.scatter(x, y, color='blue')\n",
        "plt.xlabel('X', fontsize=15)\n",
        "plt.ylabel('Y', fontsize=15)\n",
        "plt.title('Datos simulados', fontsize=20, fontweight='bold')\n",
        "plt.show()"
      ],
      "id": "4da697e5",
      "execution_count": null,
      "outputs": []
    },
    {
      "cell_type": "markdown",
      "metadata": {},
      "source": [
        "Para poder usar Stan, se debe de escribir un archivo con extensión `.stan` con el siguiente contenido:\n",
        "\n",
        "```stan\n",
        "data {\n",
        "    int<lower=0> N;\n",
        "    vector[N] x;\n",
        "    vector[N] y;\n",
        "}\n",
        "\n",
        "parameters {\n",
        "    real beta_0;\n",
        "    real beta_1;\n",
        "    real<lower=0> sigma;\n",
        "}\n",
        "\n",
        "model {\n",
        "    beta_0 ~ normal(0, 10);\n",
        "    beta_1 ~ normal(0, 10);\n",
        "    sigma ~ normal(0, 10);\n",
        "    y ~ normal(beta_0 + beta_1 * x, sigma);\n",
        "}\n",
        "```\n",
        "\n",
        "Estos bloques se especifican de la siguiente manera:\n",
        "\n",
        "- **data**: Se especifican los datos que se utilizarán en el modelo. En este caso, se especifica el número de observaciones `N`, el vector de variables independientes `x` y el vector de variables dependientes `y`.\n",
        "- **parameters**: Se especifican los parámetros del modelo que se estimarán. En este caso, se especifican los coeficientes `beta_0` y `beta_1` de la regresión lineal y la desviación estándar `sigma` del error.\n",
        "- **model**: Se especifica el modelo estadístico que se utilizará para realizar inferencias sobre los parámetros del modelo. En este caso, se especifica que los datos `y` se distribuyen normalmente con media `beta_0 + beta_1 * x` y desviación estándar `sigma`.\n",
        "\n",
        "Ahora vamos a compilar el modelo y ajustarlo a los datos.\n"
      ],
      "id": "e4e80c3c"
    },
    {
      "cell_type": "code",
      "metadata": {},
      "source": [
        "import nest_asyncio\n",
        "nest_asyncio.apply()\n",
        "model = \"\"\"\n",
        "data {\n",
        "    int<lower=0> N;\n",
        "    vector[N] x;\n",
        "    vector[N] y;\n",
        "}\n",
        "\n",
        "parameters {\n",
        "    real beta_0;\n",
        "    real beta_1;\n",
        "    real<lower=0> sigma;\n",
        "}\n",
        "\n",
        "model {\n",
        "    beta_0 ~ normal(0, 10);\n",
        "    beta_1 ~ normal(0, 10);\n",
        "    sigma ~ normal(0, 10);\n",
        "    y ~ normal(beta_0 + beta_1 * x, sigma);\n",
        "}\n",
        "\"\"\"\n",
        "\n",
        "data_dict = {'N': n, 'x': x, 'y': y}\n",
        "\n",
        "posterior = stan.build(model, data=data_dict)\n",
        "fit = posterior.sample(num_chains=4, num_samples=2500, num_warmup=500)"
      ],
      "id": "953bf2f8",
      "execution_count": null,
      "outputs": []
    },
    {
      "cell_type": "markdown",
      "metadata": {},
      "source": [
        "El método `sampling` se utiliza para ajustar el modelo a los datos y realizar inferencias sobre los parámetros del modelo. El método `sampling` toma como argumento los datos que se utilizarán en el modelo y el número de iteraciones y cadenas que se utilizarán en el algoritmo MCMC.\n"
      ],
      "id": "289bb6fb"
    },
    {
      "cell_type": "code",
      "metadata": {},
      "source": [
        "df_fit = fit.to_frame()\n",
        "df_fit.head()"
      ],
      "id": "2d6b8da7",
      "execution_count": null,
      "outputs": []
    },
    {
      "cell_type": "markdown",
      "metadata": {},
      "source": [
        "Para visualizar los resultados del análisis estadístico bayesiano, se puede convertir el objeto `fit` en un `DataFrame` de `pandas` y visualizar los resultados del análisis estadístico bayesiano. O podemos usar la libreria `arviz` para visualizar los resultados.\n"
      ],
      "id": "4152c72d"
    },
    {
      "cell_type": "code",
      "metadata": {},
      "source": [
        "import arviz as az\n",
        "\n",
        "az.plot_trace(fit, var_names=['beta_0', 'beta_1', 'sigma'], figsize=(10, 10), combined=True)\n",
        "plt.show()"
      ],
      "id": "81f4be19",
      "execution_count": null,
      "outputs": []
    },
    {
      "cell_type": "markdown",
      "metadata": {},
      "source": [
        "Otros gráficos que se pueden hacer son:\n"
      ],
      "id": "ad7ef91d"
    },
    {
      "cell_type": "code",
      "metadata": {},
      "source": [
        "az.plot_posterior(fit, var_names=['beta_0', 'beta_1', 'sigma'], figsize=(12, 4), kind='kde', hdi_prob=0.95)\n",
        "plt.show()"
      ],
      "id": "56bf21e4",
      "execution_count": null,
      "outputs": []
    },
    {
      "cell_type": "code",
      "metadata": {},
      "source": [
        "az.plot_forest(fit, var_names=['beta_0', 'beta_1'], figsize=(12, 4), hdi_prob=0.95, r_hat=True, ess = True)\n",
        "plt.show()"
      ],
      "id": "0208bb2b",
      "execution_count": null,
      "outputs": []
    },
    {
      "cell_type": "code",
      "metadata": {},
      "source": [
        "az.plot_pair(fit, var_names=['beta_0', 'beta_1'], figsize=(12, 8), kind='kde', marginals=True)\n",
        "plt.show()"
      ],
      "id": "ce80ad57",
      "execution_count": null,
      "outputs": []
    },
    {
      "cell_type": "markdown",
      "metadata": {},
      "source": [
        "Estos gráficos proporcionan información sobre la distribución de probabilidad a posteriori de los parámetros del modelo y permiten realizar inferencias sobre los parámetros del modelo. Por ejemplo, el gráfico de traza muestra la traza de las cadenas de Markov para los parámetros del modelo y permite evaluar la convergencia de las cadenas de Markov. El gráfico de densidad muestra la distribución de probabilidad a posteriori de los parámetros del modelo y permite visualizar la incertidumbre en la estimación de los parámetros del modelo. El gráfico de bosque muestra la distribución de probabilidad a posteriori de los parámetros del modelo y permite comparar los parámetros del modelo entre sí. El gráfico de pares muestra la relación entre los parámetros del modelo y permite visualizar la correlación entre los parámetros del modelo."
      ],
      "id": "add30833"
    }
  ],
  "metadata": {
    "kernelspec": {
      "name": "python3",
      "language": "python",
      "display_name": "Python 3 (ipykernel)"
    }
  },
  "nbformat": 4,
  "nbformat_minor": 5
}