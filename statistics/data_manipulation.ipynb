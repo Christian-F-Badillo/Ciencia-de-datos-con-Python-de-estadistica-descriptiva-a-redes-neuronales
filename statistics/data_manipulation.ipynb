{
  "cells": [
    {
      "cell_type": "raw",
      "metadata": {},
      "source": [
        "---\n",
        "title: \"Manipulación de datos con Pandas\"\n",
        "author: \"Christian Badillo\"\n",
        "format: html\n",
        "date: today\n",
        "order: 1\n",
        "filters:\n",
        "  - pyodide\n",
        "  - fontawesome\n",
        "  - iconify\n",
        "---"
      ],
      "id": "b9762efb"
    },
    {
      "cell_type": "markdown",
      "metadata": {},
      "source": [
        "# Leyendo datos con Pandas\n",
        "\n",
        "Pandas es una librería de Python que nos permite manipular datos de manera sencilla y eficiente. En este tutorial aprenderemos a leer, escribir y manipular datos con Pandas. Para leer datos, Pandas soporta una gran variedad de formatos, entre los que se encuentran CSV, Excel, JSON, entre otros.\n",
        "\n",
        "Podemos leer los datos de manera local o por medio de una url que contenga los datos en bruto, en otro caso tendremos que ya sea descargar el archivo o usar librerias como requests para obtener los datos. En este caso leeremos los datos de una url desde el github de este curso. Para leer los datos en formato CSV, usamos la función `pd.read_csv()` de Pandas.\n"
      ],
      "id": "fc8a0675"
    },
    {
      "cell_type": "code",
      "metadata": {},
      "source": [
        "import pandas as pd # Primero importamos la librería\n",
        "\n",
        "url = 'https://raw.githubusercontent.com/Christian-F-Badillo/Ciencia-de-datos-con-Python-de-estadistica-descriptiva-a-redes-neuronales/main/data/archive/mushroom_cleaned.csv' # Definimos la URL del archivo CSV\n",
        "\n",
        "data = pd.read_csv(url) # Leemos el archivo CSV"
      ],
      "id": "475cc869",
      "execution_count": null,
      "outputs": []
    },
    {
      "cell_type": "markdown",
      "metadata": {},
      "source": [
        "Si tuvieramos un archivo CSV en nuestra computadora, podríamos leerlo de la siguiente manera:\n",
        "\n",
        "```python\n",
        "archivo = 'directorio/subdirectorio/archivo.csv' # Definimos la ruta del archivo CSV\n",
        "\n",
        "data = pd.read_csv(archivo) # Leemos el archivo CSV\n",
        "```\n",
        "\n",
        "## Explorando los datos\n",
        "\n",
        "Primero como ya vimos en la lección anterior, podemos ver las primeras filas de los datos con el método `head()`. En este caso tenemos datos de hongos, donde cada fila representa un hongo y cada columna una característica del hongo.\n",
        "\n",
        "Las columnas son las siguientes:\n",
        "\n",
        "- **Cap Diameter**: Diámetro del sombrero.\n",
        "- **Cap Shape**: Forma del sombrero.\n",
        "- **Gill Attachment**: Tipo de unión de las branquias.\n",
        "- **Gill Color**: Color de las branquias.\n",
        "- **Stem Height**: Altura del tallo.\n",
        "- **Stem Width**: Ancho del tallo.\n",
        "- **Stem Color**: Color del tallo.\n",
        "- **Season**: Temporada en la que se encontró el hongo.\n",
        "- **Class**: Si es comestible (0) o venerenoso (1).\n"
      ],
      "id": "ef074f45"
    },
    {
      "cell_type": "code",
      "metadata": {},
      "source": [
        "data.head()"
      ],
      "id": "ac1510ed",
      "execution_count": null,
      "outputs": []
    },
    {
      "cell_type": "markdown",
      "metadata": {},
      "source": [
        "Lo primero que podemos hacer es ver la forma de los datos, es decir, cuántas filas y columnas tenemos. Para esto usamos el atributo `shape`.\n"
      ],
      "id": "58c6f7f6"
    },
    {
      "cell_type": "code",
      "metadata": {},
      "source": [
        "data.shape"
      ],
      "id": "bbba9776",
      "execution_count": null,
      "outputs": []
    },
    {
      "cell_type": "markdown",
      "metadata": {},
      "source": [
        "Tenemos 54039 y 9 columnas en nuestros datos. Podemos ver los nombres de las columnas con el atributo `columns`.\n"
      ],
      "id": "c7865b21"
    },
    {
      "cell_type": "code",
      "metadata": {},
      "source": [
        "data.columns"
      ],
      "id": "f4fdb36d",
      "execution_count": null,
      "outputs": []
    },
    {
      "cell_type": "markdown",
      "metadata": {},
      "source": [
        "También podemos ver los tipos de datos de las columnas con el atributo `dtypes`.\n"
      ],
      "id": "0c6030f4"
    },
    {
      "cell_type": "code",
      "metadata": {},
      "source": [
        "data.dtypes"
      ],
      "id": "82b542ad",
      "execution_count": null,
      "outputs": []
    },
    {
      "cell_type": "markdown",
      "metadata": {},
      "source": [
        "El tipo de dato es muy importante, ya que restringe las cosas que podemos hacer con los datos. En este dataset, tenemos datos tipo `int64` y `float64` que son enteros y décimales respectivamente. El tipo de dato más común en Pandas es `object`, que es un tipo de dato genérico que puede contener cualquier tipo de dato, no es recomendable tener columnas con este tipo de dato, ya que puede ser un indicio de que los datos no están limpios.\n",
        "\n",
        "Con el metodo `info()` podemos ver un resumen de los datos, incluyendo el número de valores no nulos y el uso de memoria.\n"
      ],
      "id": "20cfc6eb"
    },
    {
      "cell_type": "code",
      "metadata": {},
      "source": [
        "data.info()"
      ],
      "id": "1c727c25",
      "execution_count": null,
      "outputs": []
    },
    {
      "cell_type": "markdown",
      "metadata": {},
      "source": [
        "Gracias a este método podemos ver que no tenemos valores nulos en nuestro dataset. Si tuvieramos valores nulos, tendríamos que decidir si eliminarlos, reemplazarlos o imputarlos (usar un valor promedio, mediana, moda, etc. para reemplazar los valores nulos).\n",
        "\n",
        "## Estadísticas descriptivas\n",
        "\n",
        "Podemos obtener estadísticas descriptivas de los datos numéricos con el método `describe()`.\n"
      ],
      "id": "33cdd0f0"
    },
    {
      "cell_type": "code",
      "metadata": {},
      "source": [
        "data.describe()"
      ],
      "id": "ba3d3e5d",
      "execution_count": null,
      "outputs": []
    },
    {
      "cell_type": "markdown",
      "metadata": {},
      "source": [
        "Por comodidad se suele usar el método `transpose()` para ver las estadísticas descriptivas de manera vertical, una abreviatura de esto es `.T`.\n"
      ],
      "id": "a19501b7"
    },
    {
      "cell_type": "code",
      "metadata": {},
      "source": [
        "data.describe().T"
      ],
      "id": "4d0df716",
      "execution_count": null,
      "outputs": []
    },
    {
      "cell_type": "markdown",
      "metadata": {},
      "source": [
        "Algunas estadísticas descriptivas que obtenemos son:\n",
        "\n",
        "- **count**: Número de valores no nulos.\n",
        "- **mean**: Media de los valores.\n",
        "- **std**: Desviación estándar de los valores.\n",
        "- **min**: Valor mínimo.\n",
        "- **25%**: Primer cuartil.\n",
        "- **50%**: Mediana.\n",
        "- **75%**: Tercer cuartil.\n",
        "- **max**: Valor máximo.\n",
        "\n",
        "Podemos guardar estas estadísticas en un nuevo DataFrame para manipularlas más adelante.\n"
      ],
      "id": "ad5d2120"
    },
    {
      "cell_type": "code",
      "metadata": {},
      "source": [
        "estadisticas = data.describe().T"
      ],
      "id": "c5a4b628",
      "execution_count": null,
      "outputs": []
    },
    {
      "cell_type": "markdown",
      "metadata": {},
      "source": [
        "Si recuerdan sus cursos de estadística una medida de dispersión es el rango, que es la diferencia entre el valor máximo y el valor mínimo. Podemos calcular el rango de los datos restándo el valor máximo y el valor mínimo de cada columna y guardarlo en una nueva columna llamada `rango`.\n"
      ],
      "id": "9dd45dc8"
    },
    {
      "cell_type": "code",
      "metadata": {},
      "source": [
        "estadisticas['rango'] = estadisticas['max'] - estadisticas['min']\n",
        "estadisticas.head(9)"
      ],
      "id": "a1dd1cc1",
      "execution_count": null,
      "outputs": []
    },
    {
      "cell_type": "markdown",
      "metadata": {},
      "source": [
        "Otro estadístico importante es la varianza, que es una medida de dispersión que nos indica qué tan dispersos están los datos. Podemos calcular la varianza de los datos con el método `var()` y guardarla en una nueva columna llamada `varianza`.\n"
      ],
      "id": "c440c155"
    },
    {
      "cell_type": "code",
      "metadata": {},
      "source": [
        "estadisticas['varianza'] = data.var()\n",
        "estadisticas.head(9)"
      ],
      "id": "d0262abd",
      "execution_count": null,
      "outputs": []
    },
    {
      "cell_type": "markdown",
      "metadata": {},
      "source": [
        "Un último estadístico es el rango intercuartil (IQR), que es la diferencia entre el tercer cuartil y el primer cuartil. Podemos calcular el IQR de los datos al restar las columnas `75%` y `25%` y guardar el resultado en una nueva columna llamada `IQR`.\n"
      ],
      "id": "57db28b2"
    },
    {
      "cell_type": "code",
      "metadata": {},
      "source": [
        "estadisticas['IQR'] = estadisticas['75%'] - estadisticas['25%']\n",
        "\n",
        "estadisticas.head(9)"
      ],
      "id": "819362b4",
      "execution_count": null,
      "outputs": []
    }
  ],
  "metadata": {
    "kernelspec": {
      "name": "python3",
      "language": "python",
      "display_name": "Python 3 (ipykernel)"
    }
  },
  "nbformat": 4,
  "nbformat_minor": 5
}